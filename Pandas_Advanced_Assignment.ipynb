{
  "cells": [
    {
      "cell_type": "markdown",
      "metadata": {
        "id": "view-in-github",
        "colab_type": "text"
      },
      "source": [
        "<a href=\"https://colab.research.google.com/github/divya1276/DataScience/blob/main/Pandas_Advanced_Assignment.ipynb\" target=\"_parent\"><img src=\"https://colab.research.google.com/assets/colab-badge.svg\" alt=\"Open In Colab\"/></a>"
      ]
    },
    {
      "cell_type": "markdown",
      "metadata": {
        "id": "XHvoVqK5mYA-"
      },
      "source": [
        "# <center>Pandas Assignment</center>"
      ],
      "id": "XHvoVqK5mYA-"
    },
    {
      "cell_type": "markdown",
      "metadata": {
        "id": "v9Qb2_aumYBF"
      },
      "source": [
        "Import pandas and numpy with their aliases"
      ],
      "id": "v9Qb2_aumYBF"
    },
    {
      "cell_type": "code",
      "execution_count": null,
      "metadata": {
        "id": "ihFP1wXZmYBF"
      },
      "outputs": [],
      "source": [
        "import pandas as pd\n",
        "import numpy as np"
      ],
      "id": "ihFP1wXZmYBF"
    },
    {
      "cell_type": "markdown",
      "metadata": {
        "id": "0b8hUBhTmYBG"
      },
      "source": [
        "Create a variable a = pd.Series([ 100, 200, 300, 400])"
      ],
      "id": "0b8hUBhTmYBG"
    },
    {
      "cell_type": "code",
      "execution_count": null,
      "metadata": {
        "id": "hzvzkbNYmYBH"
      },
      "outputs": [],
      "source": [
        "# a =\n",
        "a=pd.Series([100,200,300,400])"
      ],
      "id": "hzvzkbNYmYBH"
    },
    {
      "cell_type": "markdown",
      "metadata": {
        "id": "BSyNFbitmYBH"
      },
      "source": [
        "Print a, and data type"
      ],
      "id": "BSyNFbitmYBH"
    },
    {
      "cell_type": "code",
      "execution_count": null,
      "metadata": {
        "id": "GMmFsjPamYBH",
        "colab": {
          "base_uri": "https://localhost:8080/"
        },
        "outputId": "66669823-d06e-4de8-a008-b021c3a23a60"
      },
      "outputs": [
        {
          "output_type": "stream",
          "name": "stdout",
          "text": [
            "0    100\n",
            "1    200\n",
            "2    300\n",
            "3    400\n",
            "dtype: int64\n",
            "<class 'pandas.core.series.Series'>\n"
          ]
        }
      ],
      "source": [
        "print(a)\n",
        "print(type(a))"
      ],
      "id": "GMmFsjPamYBH"
    },
    {
      "cell_type": "markdown",
      "metadata": {
        "id": "z0FryxOXmYBI"
      },
      "source": [
        "Using indexing access the element 300 from the series a."
      ],
      "id": "z0FryxOXmYBI"
    },
    {
      "cell_type": "code",
      "execution_count": null,
      "metadata": {
        "id": "wERTsh-4mYBJ",
        "colab": {
          "base_uri": "https://localhost:8080/"
        },
        "outputId": "85f2ef46-4e9a-4276-b589-bc448fe04935"
      },
      "outputs": [
        {
          "output_type": "stream",
          "name": "stdout",
          "text": [
            "300\n"
          ]
        }
      ],
      "source": [
        "a5=a[2]\n",
        "print(a5)\n"
      ],
      "id": "wERTsh-4mYBJ"
    },
    {
      "cell_type": "markdown",
      "metadata": {
        "id": "HHEKyOtemYBJ"
      },
      "source": [
        "What are the values of index for series a?"
      ],
      "id": "HHEKyOtemYBJ"
    },
    {
      "cell_type": "code",
      "execution_count": null,
      "metadata": {
        "id": "uQOnSJQ4mYBJ",
        "colab": {
          "base_uri": "https://localhost:8080/"
        },
        "outputId": "2378e7ad-c9e3-4721-83ec-8692f52b59eb"
      },
      "outputs": [
        {
          "output_type": "stream",
          "name": "stdout",
          "text": [
            "0    100\n",
            "1    200\n",
            "2    300\n",
            "3    400\n",
            "dtype: int64\n"
          ]
        }
      ],
      "source": [
        "print(a)"
      ],
      "id": "uQOnSJQ4mYBJ"
    },
    {
      "cell_type": "markdown",
      "metadata": {
        "id": "EuFjG74wmYBJ"
      },
      "source": [
        "Change the index to  ['c', 'a', 'b', 'd']"
      ],
      "id": "EuFjG74wmYBJ"
    },
    {
      "cell_type": "code",
      "execution_count": null,
      "metadata": {
        "id": "1ueAAFiJmYBK"
      },
      "outputs": [],
      "source": [
        "a.index = ['c', 'a', 'b', 'd']"
      ],
      "id": "1ueAAFiJmYBK"
    },
    {
      "cell_type": "markdown",
      "metadata": {
        "id": "ZdZLyRO7mYBK"
      },
      "source": [
        "Access the value in the series with index 'd'"
      ],
      "id": "ZdZLyRO7mYBK"
    },
    {
      "cell_type": "code",
      "execution_count": null,
      "metadata": {
        "id": "oN1ce3GymYBK",
        "colab": {
          "base_uri": "https://localhost:8080/"
        },
        "outputId": "c31c0992-b24c-4103-9824-923c47932179"
      },
      "outputs": [
        {
          "output_type": "stream",
          "name": "stdout",
          "text": [
            "400\n"
          ]
        }
      ],
      "source": [
        "print(a[\"d\"])"
      ],
      "id": "oN1ce3GymYBK"
    },
    {
      "cell_type": "markdown",
      "metadata": {
        "id": "eQSGwKtFmYBK"
      },
      "source": [
        "Sort the values wrt to the index and print it"
      ],
      "id": "eQSGwKtFmYBK"
    },
    {
      "cell_type": "code",
      "execution_count": null,
      "metadata": {
        "id": "-arvricBmYBL",
        "colab": {
          "base_uri": "https://localhost:8080/"
        },
        "outputId": "9352d386-c2fa-4ca3-9371-beca6e896b00"
      },
      "outputs": [
        {
          "output_type": "stream",
          "name": "stdout",
          "text": [
            "a    200\n",
            "b    300\n",
            "c    100\n",
            "d    400\n",
            "dtype: int64\n"
          ]
        }
      ],
      "source": [
        "print(a.sort_index())"
      ],
      "id": "-arvricBmYBL"
    },
    {
      "cell_type": "markdown",
      "metadata": {
        "id": "g-fXVSK2mYBL"
      },
      "source": [
        "Create a new Pandas Series b having index as 'e', 'f', and 'g' and value 800,450,100 and print it"
      ],
      "id": "g-fXVSK2mYBL"
    },
    {
      "cell_type": "code",
      "execution_count": null,
      "metadata": {
        "id": "fAg_rI3hmYBL",
        "colab": {
          "base_uri": "https://localhost:8080/"
        },
        "outputId": "dad6377e-91e3-4d5d-af94-c82971d45d78"
      },
      "outputs": [
        {
          "output_type": "stream",
          "name": "stdout",
          "text": [
            "e    800\n",
            "f    450\n",
            "g    100\n",
            "dtype: int64\n"
          ]
        }
      ],
      "source": [
        "# b =\n",
        "b = pd.Series([800, 450, 100], index=['e', 'f', 'g'])\n",
        "print(b)"
      ],
      "id": "fAg_rI3hmYBL"
    },
    {
      "cell_type": "markdown",
      "metadata": {
        "id": "jWhRRtF1mYBL"
      },
      "source": [
        "Append b series at the end of a series"
      ],
      "id": "jWhRRtF1mYBL"
    },
    {
      "cell_type": "code",
      "execution_count": null,
      "metadata": {
        "id": "TBV8hkRXmYBL",
        "colab": {
          "base_uri": "https://localhost:8080/"
        },
        "outputId": "59af7442-3d19-4f96-a273-f9f8e0718cac"
      },
      "outputs": [
        {
          "output_type": "stream",
          "name": "stdout",
          "text": [
            "a    200\n",
            "b    300\n",
            "c    100\n",
            "d    400\n",
            "e    800\n",
            "f    450\n",
            "g    100\n",
            "dtype: int64\n"
          ]
        }
      ],
      "source": [
        "# a =\n",
        "a = pd.concat([a, b])\n",
        "print(a.sort_index())"
      ],
      "id": "TBV8hkRXmYBL"
    },
    {
      "cell_type": "code",
      "execution_count": null,
      "metadata": {
        "id": "Xfm5WgBYmYBM",
        "colab": {
          "base_uri": "https://localhost:8080/"
        },
        "outputId": "26f47a54-b180-4bb7-e9ea-e933a7544a18"
      },
      "outputs": [
        {
          "output_type": "stream",
          "name": "stdout",
          "text": [
            "c    100\n",
            "a    200\n",
            "b    300\n",
            "d    400\n",
            "e    800\n",
            "f    450\n",
            "g    100\n",
            "dtype: int64\n"
          ]
        }
      ],
      "source": [
        "#print a again after appending b into it\n",
        "print(a)"
      ],
      "id": "Xfm5WgBYmYBM"
    },
    {
      "cell_type": "markdown",
      "metadata": {
        "id": "6lz_BR0umYBM"
      },
      "source": [
        "Sort the values in descending order of a and print the index of the sorted series"
      ],
      "id": "6lz_BR0umYBM"
    },
    {
      "cell_type": "code",
      "execution_count": null,
      "metadata": {
        "id": "5srJV0y0mYBM"
      },
      "outputs": [],
      "source": [
        "# a =\n",
        "a = a.sort_values(ascending=False)\n"
      ],
      "id": "5srJV0y0mYBM"
    },
    {
      "cell_type": "code",
      "execution_count": null,
      "metadata": {
        "id": "9OxmwQRAmYBM",
        "colab": {
          "base_uri": "https://localhost:8080/"
        },
        "outputId": "f34d0f80-28cd-4915-9912-bdf696dd3109"
      },
      "outputs": [
        {
          "output_type": "stream",
          "name": "stdout",
          "text": [
            "e    800\n",
            "f    450\n",
            "d    400\n",
            "b    300\n",
            "a    200\n",
            "c    100\n",
            "g    100\n",
            "dtype: int64\n"
          ]
        }
      ],
      "source": [
        "print(a)"
      ],
      "id": "9OxmwQRAmYBM"
    },
    {
      "cell_type": "markdown",
      "metadata": {
        "id": "OQ5gj4romYBM"
      },
      "source": [
        "## Pandas DataFrame"
      ],
      "id": "OQ5gj4romYBM"
    },
    {
      "cell_type": "markdown",
      "metadata": {
        "id": "tD7de_2amYBM"
      },
      "source": [
        "### Part 1"
      ],
      "id": "tD7de_2amYBM"
    },
    {
      "cell_type": "markdown",
      "metadata": {
        "id": "z_nAQa4BmYBN"
      },
      "source": [
        "Create a pandas dataframe df from the series 'a' that we used in the last section, print the dataframe"
      ],
      "id": "z_nAQa4BmYBN"
    },
    {
      "cell_type": "code",
      "execution_count": null,
      "metadata": {
        "id": "ojD-B6FvmYBN"
      },
      "outputs": [],
      "source": [
        "# df =\n",
        "df = a.to_frame(name='value')"
      ],
      "id": "ojD-B6FvmYBN"
    },
    {
      "cell_type": "code",
      "execution_count": null,
      "metadata": {
        "id": "2r2SyCYNmYBN",
        "colab": {
          "base_uri": "https://localhost:8080/"
        },
        "outputId": "511d4dc4-c4ac-444d-9bd1-4c25c37a48bf"
      },
      "outputs": [
        {
          "output_type": "stream",
          "name": "stdout",
          "text": [
            "   value\n",
            "e    800\n",
            "f    450\n",
            "d    400\n",
            "b    300\n",
            "a    200\n",
            "c    100\n",
            "g    100\n"
          ]
        }
      ],
      "source": [
        "print(df)"
      ],
      "id": "2r2SyCYNmYBN"
    },
    {
      "cell_type": "markdown",
      "metadata": {
        "id": "yzrIH3irmYBN"
      },
      "source": [
        "What is the shape of the datafarme <br>\n",
        "(also, what does it imply?)"
      ],
      "id": "yzrIH3irmYBN"
    },
    {
      "cell_type": "code",
      "execution_count": null,
      "metadata": {
        "id": "aFo5tNrVmYBN",
        "colab": {
          "base_uri": "https://localhost:8080/"
        },
        "outputId": "8b1c4403-ef37-4e1f-c460-ee585d0c0068"
      },
      "outputs": [
        {
          "output_type": "stream",
          "name": "stdout",
          "text": [
            "(7, 1)\n"
          ]
        }
      ],
      "source": [
        "print(df.shape)"
      ],
      "id": "aFo5tNrVmYBN"
    },
    {
      "cell_type": "markdown",
      "metadata": {
        "id": "Dl0Hr0LSmYBO"
      },
      "source": [
        "Hey! remember shape (7,1) implies dataframe has 7 rows and 1 column."
      ],
      "id": "Dl0Hr0LSmYBO"
    },
    {
      "cell_type": "markdown",
      "metadata": {
        "id": "hwcaXl43mYBO"
      },
      "source": [
        "What is the index of the dataframe, is it same as the series 'a'"
      ],
      "id": "hwcaXl43mYBO"
    },
    {
      "cell_type": "code",
      "execution_count": null,
      "metadata": {
        "id": "1-gMxT-emYBO",
        "colab": {
          "base_uri": "https://localhost:8080/"
        },
        "outputId": "b7b5aca2-7391-4cf5-966c-cebe56a52028"
      },
      "outputs": [
        {
          "output_type": "stream",
          "name": "stdout",
          "text": [
            "Index(['c', 'a', 'b', 'd', 'e', 'f', 'g'], dtype='object')\n"
          ]
        }
      ],
      "source": [
        "# yep its same as the series.\n",
        "print(df.index)"
      ],
      "id": "1-gMxT-emYBO"
    },
    {
      "cell_type": "markdown",
      "metadata": {
        "id": "C5wadnBymYBO"
      },
      "source": [
        "print the head and tail of the dataframe. <br>\n",
        "Additional - (what does head and tali represent?)"
      ],
      "id": "C5wadnBymYBO"
    },
    {
      "cell_type": "code",
      "execution_count": null,
      "metadata": {
        "id": "U2vxYrPnmYBO",
        "colab": {
          "base_uri": "https://localhost:8080/"
        },
        "outputId": "a352eaef-788f-4362-9779-6f46d0d2312f"
      },
      "outputs": [
        {
          "output_type": "stream",
          "name": "stdout",
          "text": [
            "   value\n",
            "c    100\n",
            "a    200\n",
            "b    300\n",
            "d    400\n",
            "e    800\n"
          ]
        }
      ],
      "source": [
        "print(df.head())"
      ],
      "id": "U2vxYrPnmYBO"
    },
    {
      "cell_type": "code",
      "execution_count": null,
      "metadata": {
        "id": "nikOdGC_mYBO",
        "colab": {
          "base_uri": "https://localhost:8080/"
        },
        "outputId": "670dc8db-fa4e-420c-8150-b1c9e00445b3"
      },
      "outputs": [
        {
          "output_type": "stream",
          "name": "stdout",
          "text": [
            "   value\n",
            "b    300\n",
            "d    400\n",
            "e    800\n",
            "f    450\n",
            "g    100\n"
          ]
        }
      ],
      "source": [
        "print(df.tail())"
      ],
      "id": "nikOdGC_mYBO"
    },
    {
      "cell_type": "markdown",
      "metadata": {
        "id": "Ci2tiwbBmYBO"
      },
      "source": [
        "Rename the column of the dataframe as 'points'"
      ],
      "id": "Ci2tiwbBmYBO"
    },
    {
      "cell_type": "code",
      "execution_count": null,
      "metadata": {
        "id": "K3OsbVD3mYBP"
      },
      "outputs": [],
      "source": [
        "df.columns = ['points']"
      ],
      "id": "K3OsbVD3mYBP"
    },
    {
      "cell_type": "markdown",
      "metadata": {
        "id": "bBV0VfzzmYBP"
      },
      "source": [
        "Create another Series 'fruits', which contains random names of fruits from ['orange','mango','apple']. The series should contain 7 elements, randomly selected from ['orange','mango','apple']"
      ],
      "id": "bBV0VfzzmYBP"
    },
    {
      "cell_type": "code",
      "execution_count": null,
      "metadata": {
        "id": "baUmpsuhmYBP"
      },
      "outputs": [],
      "source": [
        "#Create fruits array\n",
        "# fruits =\n",
        "# Define the list of fruits\n",
        "fruit_list = ['orange', 'mango', 'apple', 'mango', 'orange', 'apple', 'mango']"
      ],
      "id": "baUmpsuhmYBP"
    },
    {
      "cell_type": "code",
      "execution_count": null,
      "metadata": {
        "id": "QrbnjM8FmYBP"
      },
      "outputs": [],
      "source": [
        "#Create series fruits out of fruits array\n",
        "# fruits =\n",
        "# Create the Series 'fruits' from the fruit_list array\n",
        "fruits = pd.Series(fruit_list)\n"
      ],
      "id": "QrbnjM8FmYBP"
    },
    {
      "cell_type": "markdown",
      "metadata": {
        "id": "20slMbq5mYBP"
      },
      "source": [
        "Change the index of fruits to the index of dataframe df"
      ],
      "id": "20slMbq5mYBP"
    },
    {
      "cell_type": "code",
      "execution_count": null,
      "metadata": {
        "id": "1n4THBgkmYBQ",
        "colab": {
          "base_uri": "https://localhost:8080/"
        },
        "outputId": "fbb6402b-82e4-41dc-edc2-da880e14f91e"
      },
      "outputs": [
        {
          "output_type": "stream",
          "name": "stdout",
          "text": [
            "   points\n",
            "c     100\n",
            "a     200\n",
            "b     300\n",
            "d     400\n"
          ]
        }
      ],
      "source": [
        "df = pd.DataFrame({'points': [100, 200, 300, 400]}, index=['c', 'a', 'b', 'd'])\n",
        "print(df)"
      ],
      "id": "1n4THBgkmYBQ"
    },
    {
      "cell_type": "markdown",
      "metadata": {
        "id": "oPv8dJ_2mYBQ"
      },
      "source": [
        "Add this fruits series as a new column to the dataframe df with its column name as 'fruits'\n",
        "<br>print the head of the dataframe to verify"
      ],
      "id": "oPv8dJ_2mYBQ"
    },
    {
      "cell_type": "code",
      "execution_count": null,
      "metadata": {
        "id": "tit_GDscmYBQ"
      },
      "outputs": [],
      "source": [
        "df['fruits'] = fruits"
      ],
      "id": "tit_GDscmYBQ"
    },
    {
      "cell_type": "code",
      "execution_count": null,
      "metadata": {
        "id": "X3A6oKUXmYBQ",
        "colab": {
          "base_uri": "https://localhost:8080/"
        },
        "outputId": "673e02ce-f39f-451b-a94b-6156da7b453f"
      },
      "outputs": [
        {
          "output_type": "stream",
          "name": "stdout",
          "text": [
            "0    orange\n",
            "1     mango\n",
            "2     apple\n",
            "3     mango\n",
            "4    orange\n",
            "5     apple\n",
            "6     mango\n",
            "dtype: object\n"
          ]
        }
      ],
      "source": [
        "print(fruits)"
      ],
      "id": "X3A6oKUXmYBQ"
    },
    {
      "cell_type": "markdown",
      "metadata": {
        "id": "ACsvenslmYBQ"
      },
      "source": [
        "## Pandas Concatenation"
      ],
      "id": "ACsvenslmYBQ"
    },
    {
      "cell_type": "markdown",
      "metadata": {
        "id": "cwgg82N0mYBQ"
      },
      "source": [
        "Create a dataframe  d1 where the cols are  ‘city’ : [‘Chandigarh’, ‘Delhi’, ‘Kanpur’, ‘Chennai’, ‘Manali’ ] and ‘Temperature’ : [15, 22, 20, 26,-2]"
      ],
      "id": "cwgg82N0mYBQ"
    },
    {
      "cell_type": "code",
      "execution_count": null,
      "metadata": {
        "id": "09tWwU18mYBR"
      },
      "outputs": [],
      "source": [
        "# d1 =\n",
        "data = {\n",
        "    'city': ['Chandigarh', 'Delhi', 'Kanpur', 'Chennai', 'Manali'],\n",
        "    'Temperature': [15, 22, 20, 26, -2]\n",
        "}\n",
        "d1 = pd.DataFrame(data)"
      ],
      "id": "09tWwU18mYBR"
    },
    {
      "cell_type": "markdown",
      "metadata": {
        "id": "XAquuUx_mYBR"
      },
      "source": [
        "Print(d1)"
      ],
      "id": "XAquuUx_mYBR"
    },
    {
      "cell_type": "code",
      "execution_count": null,
      "metadata": {
        "id": "tEaf6dUVmYBR",
        "colab": {
          "base_uri": "https://localhost:8080/"
        },
        "outputId": "4157aaed-3c90-4097-8cb4-e94b001d06b5"
      },
      "outputs": [
        {
          "output_type": "stream",
          "name": "stdout",
          "text": [
            "         city  Temperature\n",
            "0  Chandigarh           15\n",
            "1       Delhi           22\n",
            "2      Kanpur           20\n",
            "3     Chennai           26\n",
            "4      Manali           -2\n"
          ]
        }
      ],
      "source": [
        "print(d1)"
      ],
      "id": "tEaf6dUVmYBR"
    },
    {
      "cell_type": "markdown",
      "metadata": {
        "id": "YmZ9u-4FmYBR"
      },
      "source": [
        "What is the shape of d1."
      ],
      "id": "YmZ9u-4FmYBR"
    },
    {
      "cell_type": "code",
      "execution_count": null,
      "metadata": {
        "id": "upPyfWR7mYBR",
        "colab": {
          "base_uri": "https://localhost:8080/"
        },
        "outputId": "008695a2-3926-42dc-ab54-e0dfc6c8ea81"
      },
      "outputs": [
        {
          "output_type": "stream",
          "name": "stdout",
          "text": [
            "(5, 2)\n"
          ]
        }
      ],
      "source": [
        "print(d1.shape)"
      ],
      "id": "upPyfWR7mYBR"
    },
    {
      "cell_type": "markdown",
      "metadata": {
        "id": "JtBQ5SLtmYBS"
      },
      "source": [
        "Set city = d1['city']"
      ],
      "id": "JtBQ5SLtmYBS"
    },
    {
      "cell_type": "code",
      "execution_count": null,
      "metadata": {
        "id": "mzE78QzrmYBS",
        "colab": {
          "base_uri": "https://localhost:8080/"
        },
        "outputId": "aaecd3f0-1948-43bc-9b9a-7a5f55cf396f"
      },
      "outputs": [
        {
          "output_type": "execute_result",
          "data": {
            "text/plain": [
              "0    Chandigarh\n",
              "1         Delhi\n",
              "2        Kanpur\n",
              "3       Chennai\n",
              "4        Manali\n",
              "Name: city, dtype: object"
            ]
          },
          "metadata": {},
          "execution_count": 75
        }
      ],
      "source": [
        "d1['city']"
      ],
      "id": "mzE78QzrmYBS"
    },
    {
      "cell_type": "markdown",
      "metadata": {
        "id": "WubWnFIcmYBS"
      },
      "source": [
        "print city <br>\n",
        "What is the type of city."
      ],
      "id": "WubWnFIcmYBS"
    },
    {
      "cell_type": "code",
      "execution_count": null,
      "metadata": {
        "id": "6d4EjYTemYBS",
        "colab": {
          "base_uri": "https://localhost:8080/"
        },
        "outputId": "01eefe1f-e41d-4116-c020-8bf4dd066144"
      },
      "outputs": [
        {
          "output_type": "stream",
          "name": "stdout",
          "text": [
            "0    Chandigarh\n",
            "1         Delhi\n",
            "2        Kanpur\n",
            "3       Chennai\n",
            "4        Manali\n",
            "Name: city, dtype: object\n",
            "<class 'pandas.core.series.Series'>\n"
          ]
        }
      ],
      "source": [
        "print(d1.city)\n",
        "print(type(d1['city']))"
      ],
      "id": "6d4EjYTemYBS"
    },
    {
      "cell_type": "markdown",
      "metadata": {
        "id": "uUdrLgg6mYBS"
      },
      "source": [
        "Create another datafeame 'd2' where the columns are <br>\n",
        "'city' - ['Bengalaru','Coimbatore','Srirangam','Pondicherry'] <br>\n",
        "'Temperature' - [24,35,36,39]"
      ],
      "id": "uUdrLgg6mYBS"
    },
    {
      "cell_type": "code",
      "execution_count": null,
      "metadata": {
        "id": "CFBCGcvhmYBS"
      },
      "outputs": [],
      "source": [
        "# d2 =\n",
        "data2 = {\n",
        "    'city': ['Bengalaru', 'Coimbatore', 'Srirangam', 'Pondicherry'],\n",
        "    'Temperature': [24, 35, 36, 39]\n",
        "}\n",
        "d2=pd.DataFrame(data)\n"
      ],
      "id": "CFBCGcvhmYBS"
    },
    {
      "cell_type": "markdown",
      "metadata": {
        "id": "HivVdLN5mYBT"
      },
      "source": [
        "print the shape of this dataframe"
      ],
      "id": "HivVdLN5mYBT"
    },
    {
      "cell_type": "code",
      "execution_count": null,
      "metadata": {
        "id": "9FFgtQJhmYBT",
        "colab": {
          "base_uri": "https://localhost:8080/"
        },
        "outputId": "a1ca6d35-fdaf-4c6c-8eb1-8ceb4aafd60a"
      },
      "outputs": [
        {
          "output_type": "stream",
          "name": "stdout",
          "text": [
            "(5, 2)\n"
          ]
        }
      ],
      "source": [
        "print(d2.shape)\n"
      ],
      "id": "9FFgtQJhmYBT"
    },
    {
      "cell_type": "markdown",
      "metadata": {
        "id": "UK38h5ktmYBT"
      },
      "source": [
        "merge the two dataframes together, save it in a new dataframe named 'd3'"
      ],
      "id": "UK38h5ktmYBT"
    },
    {
      "cell_type": "code",
      "execution_count": null,
      "metadata": {
        "id": "GMbOPfjCmYBT"
      },
      "outputs": [],
      "source": [
        "# d3 =\n",
        "d3 = pd.concat([d1, d2], ignore_index=True)"
      ],
      "id": "GMbOPfjCmYBT"
    },
    {
      "cell_type": "markdown",
      "metadata": {
        "id": "1dGlNGzjmYBT"
      },
      "source": [
        "Select the part of the dataframe such that it contains cities wherer temp is less then or equal to 20 <br>\n",
        "How many cities are there?"
      ],
      "id": "1dGlNGzjmYBT"
    },
    {
      "cell_type": "code",
      "execution_count": null,
      "metadata": {
        "id": "1vtC2UkgmYBT",
        "colab": {
          "base_uri": "https://localhost:8080/"
        },
        "outputId": "5d32f7f7-8d04-4d13-b0e8-c5cdb087604e"
      },
      "outputs": [
        {
          "output_type": "stream",
          "name": "stdout",
          "text": [
            "         city  Temperature  is_union_territory  is_ut\n",
            "0  Chandigarh           15                True   True\n",
            "2      Kanpur           20               False  False\n",
            "4      Manali           -2               False  False\n",
            "5  Chandigarh           15                True   True\n",
            "7      Kanpur           20               False  False\n",
            "9      Manali           -2               False  False\n",
            "6\n"
          ]
        }
      ],
      "source": [
        "cities = d3[d3['Temperature'] <= 20]\n",
        "cities1 = len(cities)\n",
        "print(cities)\n",
        "print(cities1)"
      ],
      "id": "1vtC2UkgmYBT"
    },
    {
      "cell_type": "markdown",
      "metadata": {
        "id": "82QIQRQUmYBT"
      },
      "source": [
        "Select the part of the dataframe such that it contains the cities where tempearature greater than or equal to 35"
      ],
      "id": "82QIQRQUmYBT"
    },
    {
      "cell_type": "code",
      "execution_count": null,
      "metadata": {
        "id": "Ea_hMtyGmYBU",
        "colab": {
          "base_uri": "https://localhost:8080/"
        },
        "outputId": "22336016-082d-41c0-b6d8-f016f5a63a60"
      },
      "outputs": [
        {
          "output_type": "stream",
          "name": "stdout",
          "text": [
            "Empty DataFrame\n",
            "Columns: [city, Temperature, is_union_territory, is_ut]\n",
            "Index: []\n",
            "0\n"
          ]
        }
      ],
      "source": [
        "temp2= d3[d3['Temperature'] >= 35]\n",
        "print(temp2)\n",
        "temp3 = len(temp2)\n",
        "print(temp3)"
      ],
      "id": "Ea_hMtyGmYBU"
    },
    {
      "cell_type": "markdown",
      "metadata": {
        "id": "BrYscXpWmYBU"
      },
      "source": [
        "## Applying functions to columns and creating new columns"
      ],
      "id": "BrYscXpWmYBU"
    },
    {
      "cell_type": "markdown",
      "metadata": {
        "id": "7Z4ioDxtmYBU"
      },
      "source": [
        "We need to create another column in d3, which contains  a boolean value for each city to indicate whether it's a union territory or not.\n",
        "- HINT: Chandigarh, Pondicherry and Delhi are only 3 union territories here.\n"
      ],
      "id": "7Z4ioDxtmYBU"
    },
    {
      "cell_type": "code",
      "execution_count": null,
      "metadata": {
        "id": "FR2wgv6tmYBU"
      },
      "outputs": [],
      "source": [
        "# write function here\n",
        "\n",
        "# def is_ut(x):\n",
        "\n",
        "#     # write code below\n",
        "\n",
        "# d3['is_ut'] =\n",
        "\n",
        "# Print the DataFrame d3\n",
        "data3 = {\n",
        "    'city': ['Chandigarh', 'Delhi', 'Kanpur', 'Chennai', 'Manali',\n",
        "             'Bengalaru', 'Coimbatore', 'Srirangam', 'Pondicherry'],\n",
        "    'Temperature': [15, 22, 20, 26, -2, 24, 35, 36, 39]\n",
        "}\n",
        "d3 = pd.DataFrame(data3)\n",
        "def is_ut(city):\n",
        "    return city in ['Chandigarh', 'Pondicherry', 'Delhi']\n",
        "d3['is_ut'] = d3['city'].apply(is_ut)\n"
      ],
      "id": "FR2wgv6tmYBU"
    },
    {
      "cell_type": "code",
      "execution_count": null,
      "metadata": {
        "id": "0hd7QjComYBU",
        "colab": {
          "base_uri": "https://localhost:8080/"
        },
        "outputId": "70971114-dde9-46e0-c987-e6d889f47ef1"
      },
      "outputs": [
        {
          "output_type": "stream",
          "name": "stdout",
          "text": [
            "          city  Temperature  is_ut\n",
            "0   Chandigarh           15   True\n",
            "1        Delhi           22   True\n",
            "2       Kanpur           20  False\n",
            "3      Chennai           26  False\n",
            "4       Manali           -2  False\n",
            "5    Bengalaru           24  False\n",
            "6   Coimbatore           35  False\n",
            "7    Srirangam           36  False\n",
            "8  Pondicherry           39   True\n"
          ]
        }
      ],
      "source": [
        "# print d3\n",
        "\n",
        "print(d3)\n"
      ],
      "id": "0hd7QjComYBU"
    },
    {
      "cell_type": "markdown",
      "metadata": {
        "id": "z88YETlMmYBU"
      },
      "source": [
        "The temperatures mentioned in ‘Temperature’ column are mentioned in Celsius, we need another column which contains the same in Fahrenheit."
      ],
      "id": "z88YETlMmYBU"
    },
    {
      "cell_type": "markdown",
      "metadata": {
        "id": "ywp07m-xmYBU"
      },
      "source": [
        "HINT -\n",
        "- Define a function c_to_f which takes input temp in celsius and returns a value with temperature in Fahrenheit.\n",
        "- To check: c_to_f(10) should return 50.\n"
      ],
      "id": "ywp07m-xmYBU"
    },
    {
      "cell_type": "code",
      "execution_count": null,
      "metadata": {
        "id": "V0x_0IAAmYBV",
        "colab": {
          "base_uri": "https://localhost:8080/"
        },
        "outputId": "37528cd4-355e-4257-afcd-a2da6b0ec229"
      },
      "outputs": [
        {
          "output_type": "stream",
          "name": "stdout",
          "text": [
            "          city  Temperature  is_ut  Temperature_Fahrenheit\n",
            "0   Chandigarh           15   True                    59.0\n",
            "1        Delhi           22   True                    71.6\n",
            "2       Kanpur           20  False                    68.0\n",
            "3      Chennai           26  False                    78.8\n",
            "4       Manali           -2  False                    28.4\n",
            "5    Bengalaru           24  False                    75.2\n",
            "6   Coimbatore           35  False                    95.0\n",
            "7    Srirangam           36  False                    96.8\n",
            "8  Pondicherry           39   True                   102.2\n"
          ]
        }
      ],
      "source": [
        "# write function here\n",
        "def c_to_f(temp_celsius):\n",
        "    return (temp_celsius * 9/5) + 32\n",
        "\n",
        "# Apply the function to create a new column 'Temperature_Fahrenheit'\n",
        "d3['Temperature_Fahrenheit'] = d3['Temperature'].apply(c_to_f)\n",
        "print(d3)"
      ],
      "id": "V0x_0IAAmYBV"
    },
    {
      "cell_type": "code",
      "execution_count": null,
      "metadata": {
        "id": "Wc9meranmYBV",
        "colab": {
          "base_uri": "https://localhost:8080/"
        },
        "outputId": "610a9a7b-50a8-4fed-d40b-e7e093e73b64"
      },
      "outputs": [
        {
          "output_type": "stream",
          "name": "stdout",
          "text": [
            "50.0\n"
          ]
        }
      ],
      "source": [
        "# check function c_to_f(10)\n",
        "test_values = 10\n",
        "cv = c_to_f(test_values)\n",
        "print(cv)\n"
      ],
      "id": "Wc9meranmYBV"
    },
    {
      "cell_type": "code",
      "execution_count": null,
      "metadata": {
        "id": "H79GUcoImYBV",
        "colab": {
          "base_uri": "https://localhost:8080/"
        },
        "outputId": "4e5faff4-f9d6-436d-e405-b67692fde079"
      },
      "outputs": [
        {
          "output_type": "stream",
          "name": "stdout",
          "text": [
            "          city  Temperature  is_ut  Temperature_Fahrenheit  temp_fahrenheit\n",
            "0   Chandigarh           15   True                    59.0             59.0\n",
            "1        Delhi           22   True                    71.6             71.6\n",
            "2       Kanpur           20  False                    68.0             68.0\n",
            "3      Chennai           26  False                    78.8             78.8\n",
            "4       Manali           -2  False                    28.4             28.4\n",
            "5    Bengalaru           24  False                    75.2             75.2\n",
            "6   Coimbatore           35  False                    95.0             95.0\n",
            "7    Srirangam           36  False                    96.8             96.8\n",
            "8  Pondicherry           39   True                   102.2            102.2\n"
          ]
        }
      ],
      "source": [
        "# apply function c_to_f to d3 to create a column 'temp_farenhiet'\n",
        "d3['temp_fahrenheit'] = d3['Temperature'].apply(c_to_f)\n",
        "print(d3)"
      ],
      "id": "H79GUcoImYBV"
    },
    {
      "cell_type": "markdown",
      "metadata": {
        "id": "Wj0p6JKHmYBV"
      },
      "source": [
        "## Indexing and selecting rows in DataFrame"
      ],
      "id": "Wj0p6JKHmYBV"
    },
    {
      "cell_type": "markdown",
      "metadata": {
        "id": "fFitRJy2mYBV"
      },
      "source": [
        "Select subset of the dataframe d1 such that it contains the cities which are union territories."
      ],
      "id": "fFitRJy2mYBV"
    },
    {
      "cell_type": "code",
      "execution_count": null,
      "metadata": {
        "id": "Kg8OSVz0mYBV",
        "colab": {
          "base_uri": "https://localhost:8080/"
        },
        "outputId": "4510b7ca-532e-4727-81a9-613d826ea8e0"
      },
      "outputs": [
        {
          "output_type": "stream",
          "name": "stdout",
          "text": [
            "         city  Temperature  is_ut\n",
            "0  Chandigarh           15   True\n",
            "1       Delhi           22   True\n"
          ]
        }
      ],
      "source": [
        "d1['is_ut'] = d1['city'].apply(is_ut)\n",
        "subc= d1[d1['is_ut']]\n",
        "print(subc)\n"
      ],
      "id": "Kg8OSVz0mYBV"
    },
    {
      "cell_type": "markdown",
      "metadata": {
        "id": "XnxQl4ZPmYBV"
      },
      "source": [
        "Select a subset of the dataframe d1 such that it contains the cities which only have temperature above 90 Farenhiet."
      ],
      "id": "XnxQl4ZPmYBV"
    },
    {
      "cell_type": "code",
      "execution_count": null,
      "metadata": {
        "id": "9o62VSn7mYBV",
        "colab": {
          "base_uri": "https://localhost:8080/"
        },
        "outputId": "683ea995-24d1-4820-ecfd-a30433d48d17"
      },
      "outputs": [
        {
          "output_type": "stream",
          "name": "stdout",
          "text": [
            "          city  Temperature  is_ut  Temperature_Fahrenheit  temp_fahrenheit\n",
            "6   Coimbatore           35  False                    95.0             95.0\n",
            "7    Srirangam           36  False                    96.8             96.8\n",
            "8  Pondicherry           39   True                   102.2            102.2\n"
          ]
        }
      ],
      "source": [
        "substemp = d3[d3['temp_fahrenheit'] > 90]\n",
        "print(substemp)"
      ],
      "id": "9o62VSn7mYBV"
    },
    {
      "cell_type": "markdown",
      "metadata": {
        "id": "IQq7K2EtmYBW"
      },
      "source": [
        "Select only the first three rows of the dataframe d1.\n"
      ],
      "id": "IQq7K2EtmYBW"
    },
    {
      "cell_type": "code",
      "execution_count": null,
      "metadata": {
        "id": "PlmVOyAAmYBW",
        "colab": {
          "base_uri": "https://localhost:8080/"
        },
        "outputId": "dffeba5e-928c-4831-8e3a-1e20be103cd6"
      },
      "outputs": [
        {
          "output_type": "stream",
          "name": "stdout",
          "text": [
            "         city  Temperature  is_ut\n",
            "0  Chandigarh           15   True\n",
            "1       Delhi           22   True\n",
            "2      Kanpur           20  False\n"
          ]
        }
      ],
      "source": [
        "set1= d1.head(3)\n",
        "print(set1)"
      ],
      "id": "PlmVOyAAmYBW"
    },
    {
      "cell_type": "markdown",
      "metadata": {
        "id": "MKNIbwW2mYBW"
      },
      "source": [
        "Select all the rows and last two columns in the dataframe.\n",
        "\n",
        "\n"
      ],
      "id": "MKNIbwW2mYBW"
    },
    {
      "cell_type": "code",
      "execution_count": null,
      "metadata": {
        "id": "WfQasVJImYBW",
        "colab": {
          "base_uri": "https://localhost:8080/"
        },
        "outputId": "fd6ce80f-83a1-4fa3-ed10-bb8522a971cf"
      },
      "outputs": [
        {
          "output_type": "stream",
          "name": "stdout",
          "text": [
            "   Temperature  is_ut\n",
            "0           15   True\n",
            "1           22   True\n",
            "2           20  False\n",
            "3           26  False\n",
            "4           -2  False\n"
          ]
        }
      ],
      "source": [
        "setcol= d1.iloc[:, -2:]\n",
        "print(setcol)"
      ],
      "id": "WfQasVJImYBW"
    },
    {
      "cell_type": "markdown",
      "metadata": {
        "id": "LQ9xspkHmYBW"
      },
      "source": [
        "## Groupby"
      ],
      "id": "LQ9xspkHmYBW"
    },
    {
      "cell_type": "code",
      "execution_count": null,
      "metadata": {
        "id": "IhPmh2qSUIfI",
        "colab": {
          "base_uri": "https://localhost:8080/"
        },
        "outputId": "d65c47a2-7670-400e-9a56-ff96eafb3a57"
      },
      "outputs": [
        {
          "output_type": "stream",
          "name": "stdout",
          "text": [
            "    fruit category  price\n",
            "0   Apple        A     10\n",
            "1  Banana        B      5\n",
            "2  Orange        A      8\n",
            "3   Apple        B     12\n",
            "4  Banana        A      7\n",
            "5  Orange        B      9\n",
            "6   Apple        A     11\n",
            "7  Banana        B      6\n",
            "8  Orange        A     10\n"
          ]
        }
      ],
      "source": [
        "# Create a dataframe using dictionary of your choice\n",
        "\n",
        "# data =\n",
        "data = {\n",
        "    'fruit': ['Apple', 'Banana', 'Orange', 'Apple', 'Banana', 'Orange', 'Apple', 'Banana', 'Orange'],\n",
        "    'category': ['A', 'B', 'A', 'B', 'A', 'B', 'A', 'B', 'A'],\n",
        "    'price': [10, 5, 8, 12, 7, 9, 11, 6, 10]\n",
        "}\n",
        "\n",
        "# Create the DataFrame\n",
        "df = pd.DataFrame(data)\n",
        "print(df)"
      ],
      "id": "IhPmh2qSUIfI"
    },
    {
      "cell_type": "code",
      "execution_count": null,
      "metadata": {
        "id": "x8loPsRaUIfJ",
        "colab": {
          "base_uri": "https://localhost:8080/"
        },
        "outputId": "1f2c7893-388f-44a9-9cd0-c4c7179d216e"
      },
      "outputs": [
        {
          "output_type": "stream",
          "name": "stdout",
          "text": [
            "fruit\n",
            "Apple     33\n",
            "Banana    18\n",
            "Orange    27\n",
            "Name: price, dtype: int64\n"
          ]
        }
      ],
      "source": [
        "# Use Groupby of single column with aggregate sum()\n",
        "aggsum = df.groupby('fruit')['price'].sum()\n",
        "print(aggsum)"
      ],
      "id": "x8loPsRaUIfJ"
    },
    {
      "cell_type": "code",
      "execution_count": null,
      "metadata": {
        "id": "VIWxl25_UIfK",
        "colab": {
          "base_uri": "https://localhost:8080/"
        },
        "outputId": "46ed5d62-4f6b-4e1a-a8ae-5ceb7c4d6530"
      },
      "outputs": [
        {
          "output_type": "stream",
          "name": "stdout",
          "text": [
            "fruit\n",
            "Apple     3\n",
            "Banana    3\n",
            "Orange    3\n",
            "Name: price, dtype: int64\n"
          ]
        }
      ],
      "source": [
        "# Use Groupby of single column with aggregate count()\n",
        "aggcount = df.groupby('fruit')['price'].count()\n",
        "print(aggcount)"
      ],
      "id": "VIWxl25_UIfK"
    },
    {
      "cell_type": "code",
      "execution_count": null,
      "metadata": {
        "id": "KRG71Pa8UIfK",
        "colab": {
          "base_uri": "https://localhost:8080/"
        },
        "outputId": "cdb58ea9-2303-434c-dd29-59fbb8115964"
      },
      "outputs": [
        {
          "output_type": "stream",
          "name": "stdout",
          "text": [
            "fruit\n",
            "Apple     10\n",
            "Banana     5\n",
            "Orange     8\n",
            "Name: price, dtype: int64\n",
            "fruit\n",
            "Apple     12\n",
            "Banana     7\n",
            "Orange    10\n",
            "Name: price, dtype: int64\n"
          ]
        }
      ],
      "source": [
        "# Use Groupby of single column with aggregate min() and max()\n",
        "aggmin=df.groupby('fruit')['price'].min()\n",
        "aggmax = df.groupby('fruit')['price'].max()\n",
        "print(aggmin)\n",
        "print(aggmax)"
      ],
      "id": "KRG71Pa8UIfK"
    },
    {
      "cell_type": "code",
      "execution_count": null,
      "metadata": {
        "id": "2p6HydpzUIfK",
        "colab": {
          "base_uri": "https://localhost:8080/"
        },
        "outputId": "637b1d86-ec50-4c5c-9bd1-54de913c72a1"
      },
      "outputs": [
        {
          "output_type": "stream",
          "name": "stdout",
          "text": [
            "fruit   category\n",
            "Apple   A           10.5\n",
            "        B           12.0\n",
            "Banana  A            7.0\n",
            "        B            5.5\n",
            "Orange  A            9.0\n",
            "        B            9.0\n",
            "Name: price, dtype: float64\n"
          ]
        }
      ],
      "source": [
        "# Use Groupby of any 2 columns with aggregate mean()\n",
        "aggmean=df.groupby(['fruit', 'category'])['price'].mean()\n",
        "print(aggmean)"
      ],
      "id": "2p6HydpzUIfK"
    },
    {
      "cell_type": "code",
      "execution_count": null,
      "metadata": {
        "id": "K0IPfvYJUIfL",
        "colab": {
          "base_uri": "https://localhost:8080/"
        },
        "outputId": "878452ea-a376-4762-d0f4-94dae83bef0d"
      },
      "outputs": [
        {
          "output_type": "stream",
          "name": "stdout",
          "text": [
            "fruit   category\n",
            "Apple   A           10\n",
            "        B           12\n",
            "Banana  A            7\n",
            "        B            5\n",
            "Orange  A            8\n",
            "        B            9\n",
            "Name: price, dtype: int64\n",
            "fruit   category\n",
            "Apple   A           11\n",
            "        B           12\n",
            "Banana  A            7\n",
            "        B            6\n",
            "Orange  A           10\n",
            "        B            9\n",
            "Name: price, dtype: int64\n"
          ]
        }
      ],
      "source": [
        "# Use Groupby of any 2 columns with aggregate min() and max()\n",
        "aggmin1=df.groupby(['fruit','category'])['price'].min()\n",
        "aggmax1=df.groupby(['fruit','category'])['price'].max()\n",
        "print(aggmin1)\n",
        "print(aggmax1)"
      ],
      "id": "K0IPfvYJUIfL"
    }
  ],
  "metadata": {
    "colab": {
      "provenance": [],
      "include_colab_link": true
    },
    "kernelspec": {
      "display_name": "Python 3",
      "language": "python",
      "name": "python3"
    },
    "language_info": {
      "codemirror_mode": {
        "name": "ipython",
        "version": 3
      },
      "file_extension": ".py",
      "mimetype": "text/x-python",
      "name": "python",
      "nbconvert_exporter": "python",
      "pygments_lexer": "ipython3",
      "version": "3.7.4"
    }
  },
  "nbformat": 4,
  "nbformat_minor": 5
}