{
  "cells": [
    {
      "cell_type": "markdown",
      "metadata": {
        "id": "view-in-github",
        "colab_type": "text"
      },
      "source": [
        "<a href=\"https://colab.research.google.com/github/divya1276/DataScience/blob/main/Statistics_Advanced_Assignment.ipynb\" target=\"_parent\"><img src=\"https://colab.research.google.com/assets/colab-badge.svg\" alt=\"Open In Colab\"/></a>"
      ]
    },
    {
      "cell_type": "markdown",
      "source": [
        "<a id='1'></a><center> <h3 style=\"background-color:orange; color:white\" ><br>Telecommunication Industry Project<br></h3>"
      ],
      "metadata": {
        "id": "QvtD0SxEOPGe"
      }
    },
    {
      "cell_type": "markdown",
      "source": [
        "# Introduction\n",
        "This Jupyter notebook is part of your learning experience in the study of applied statistics.\n",
        "\n",
        "You will work with a data set that contains mobile phone prices and their specifications.\n",
        "\n",
        "**Dataset Columns Information**\n",
        "\n",
        "PID = a unique identifier for the phone model\n",
        "\n",
        "Blue = whether the phone has bluetooth support or not\n",
        "\n",
        "Wi_Fi = whether the phone has wifi support or not\n",
        "\n",
        "Tch_Scr = whether the phone has touch screen support or not\n",
        "\n",
        "Ext_Mem = whether the phone has external memory support or not\n",
        "\n",
        "Px_h = number of pixels in the vertical axis of the phone\n",
        "\n",
        "Px_w = number of pixels in the horizontal axis of the phone\n",
        "\n",
        "Scr_h = height of the screen of the phone in centimetres (cm)\n",
        "\n",
        "Scr_w = width of the screen of the phone in centimetres (cm)\n",
        "\n",
        "Int_Mem = internal memory of the phone measured in megabytes (MB)\n",
        "\n",
        "Bty_Pwr = maximum energy stored by the phone's battery measured in\n",
        "milli-Ampere-hours (mAh)\n",
        "\n",
        "PC = resolution of the primary camera measued in megapixels (MP)\n",
        "\n",
        "FC = resolution of the front camera measued in megapixels (MP)\n",
        "\n",
        "RAM = random access memory available in the phone measured in gigabytes (GB)\n",
        "\n",
        "Depth = depth of the mobile phone measured in centimetres (cm)\n",
        "\n",
        "Weight = weight of the mobile phone measured in grams (g)\n",
        "\n",
        "Price = selling price of the mobile phone in rupees\n"
      ],
      "metadata": {
        "id": "_pzTIrVbOcFF"
      }
    },
    {
      "cell_type": "code",
      "execution_count": null,
      "metadata": {
        "id": "wEXybtFON854"
      },
      "outputs": [],
      "source": []
    },
    {
      "cell_type": "markdown",
      "source": [
        "## Task 1 - Load and study the data"
      ],
      "metadata": {
        "id": "YCLhIkwFO4Tj"
      }
    },
    {
      "cell_type": "markdown",
      "source": [
        "Import the libraries that will be used in this notebook"
      ],
      "metadata": {
        "id": "CBMdPgPUO89Y"
      }
    },
    {
      "cell_type": "code",
      "execution_count": null,
      "metadata": {
        "id": "z9ZS2Tw2N857"
      },
      "outputs": [],
      "source": [
        "# Load \"numpy\" and \"pandas\" for manipulating numbers and data frames\n",
        "# Load \"matplotlib.pyplot\" and \"seaborn\" for data visualisation\n",
        "import pandas as pd\n",
        "import numpy as np\n",
        "import matplotlib.pyplot as plt\n",
        "import seaborn as sns"
      ]
    },
    {
      "cell_type": "markdown",
      "source": [
        "Load the csv file as pandas dataframe."
      ],
      "metadata": {
        "id": "7rdvm8PDPCgM"
      }
    },
    {
      "cell_type": "code",
      "execution_count": null,
      "metadata": {
        "id": "7p5Rg_AkN858"
      },
      "outputs": [],
      "source": [
        "# Read in the \"Dataset\" file as a Pandas Data Frame\n",
        "\n",
        "data = pd.read_csv('/content/Telecom Dataset.csv')"
      ]
    },
    {
      "cell_type": "code",
      "execution_count": null,
      "metadata": {
        "id": "WdfT3N-iN859",
        "colab": {
          "base_uri": "https://localhost:8080/",
          "height": 206
        },
        "outputId": "4e0f0c50-519e-4ac9-a0fb-a28d59ec01fe"
      },
      "outputs": [
        {
          "output_type": "execute_result",
          "data": {
            "text/plain": [
              "       PID Blue Wi_Fi Tch_Scr Ext_Mem  Px_h  Px_w  Scr_h  Scr_w  PC  FC  \\\n",
              "0  AAB346A  yes   yes      no      no   780   460      3      1   2   2   \n",
              "1  AAC347I  yes   yes      no      no   780   560      2      1   4   2   \n",
              "2  BAB657J   no   yes      no      no   840   720      2      1   4   2   \n",
              "3  BBD456K   no   yes     yes      no  1280  1120      5      3   6   2   \n",
              "4  CCP761U   no   yes     yes      no  1280  1080      4      3   6   2   \n",
              "\n",
              "   Int_Mem  Bty_Pwr  RAM  Depth  Weight  Price  \n",
              "0        8     2800    2      7     320   3297  \n",
              "1        8     3000    2      7     280   4500  \n",
              "2        8     3300    2      7     400   4898  \n",
              "3       32     3000    2      3     300   6900  \n",
              "4       16     3000    2      3     210   5600  "
            ],
            "text/html": [
              "\n",
              "  <div id=\"df-9557fd83-9010-4e01-a0bb-d62820eff4f4\" class=\"colab-df-container\">\n",
              "    <div>\n",
              "<style scoped>\n",
              "    .dataframe tbody tr th:only-of-type {\n",
              "        vertical-align: middle;\n",
              "    }\n",
              "\n",
              "    .dataframe tbody tr th {\n",
              "        vertical-align: top;\n",
              "    }\n",
              "\n",
              "    .dataframe thead th {\n",
              "        text-align: right;\n",
              "    }\n",
              "</style>\n",
              "<table border=\"1\" class=\"dataframe\">\n",
              "  <thead>\n",
              "    <tr style=\"text-align: right;\">\n",
              "      <th></th>\n",
              "      <th>PID</th>\n",
              "      <th>Blue</th>\n",
              "      <th>Wi_Fi</th>\n",
              "      <th>Tch_Scr</th>\n",
              "      <th>Ext_Mem</th>\n",
              "      <th>Px_h</th>\n",
              "      <th>Px_w</th>\n",
              "      <th>Scr_h</th>\n",
              "      <th>Scr_w</th>\n",
              "      <th>PC</th>\n",
              "      <th>FC</th>\n",
              "      <th>Int_Mem</th>\n",
              "      <th>Bty_Pwr</th>\n",
              "      <th>RAM</th>\n",
              "      <th>Depth</th>\n",
              "      <th>Weight</th>\n",
              "      <th>Price</th>\n",
              "    </tr>\n",
              "  </thead>\n",
              "  <tbody>\n",
              "    <tr>\n",
              "      <th>0</th>\n",
              "      <td>AAB346A</td>\n",
              "      <td>yes</td>\n",
              "      <td>yes</td>\n",
              "      <td>no</td>\n",
              "      <td>no</td>\n",
              "      <td>780</td>\n",
              "      <td>460</td>\n",
              "      <td>3</td>\n",
              "      <td>1</td>\n",
              "      <td>2</td>\n",
              "      <td>2</td>\n",
              "      <td>8</td>\n",
              "      <td>2800</td>\n",
              "      <td>2</td>\n",
              "      <td>7</td>\n",
              "      <td>320</td>\n",
              "      <td>3297</td>\n",
              "    </tr>\n",
              "    <tr>\n",
              "      <th>1</th>\n",
              "      <td>AAC347I</td>\n",
              "      <td>yes</td>\n",
              "      <td>yes</td>\n",
              "      <td>no</td>\n",
              "      <td>no</td>\n",
              "      <td>780</td>\n",
              "      <td>560</td>\n",
              "      <td>2</td>\n",
              "      <td>1</td>\n",
              "      <td>4</td>\n",
              "      <td>2</td>\n",
              "      <td>8</td>\n",
              "      <td>3000</td>\n",
              "      <td>2</td>\n",
              "      <td>7</td>\n",
              "      <td>280</td>\n",
              "      <td>4500</td>\n",
              "    </tr>\n",
              "    <tr>\n",
              "      <th>2</th>\n",
              "      <td>BAB657J</td>\n",
              "      <td>no</td>\n",
              "      <td>yes</td>\n",
              "      <td>no</td>\n",
              "      <td>no</td>\n",
              "      <td>840</td>\n",
              "      <td>720</td>\n",
              "      <td>2</td>\n",
              "      <td>1</td>\n",
              "      <td>4</td>\n",
              "      <td>2</td>\n",
              "      <td>8</td>\n",
              "      <td>3300</td>\n",
              "      <td>2</td>\n",
              "      <td>7</td>\n",
              "      <td>400</td>\n",
              "      <td>4898</td>\n",
              "    </tr>\n",
              "    <tr>\n",
              "      <th>3</th>\n",
              "      <td>BBD456K</td>\n",
              "      <td>no</td>\n",
              "      <td>yes</td>\n",
              "      <td>yes</td>\n",
              "      <td>no</td>\n",
              "      <td>1280</td>\n",
              "      <td>1120</td>\n",
              "      <td>5</td>\n",
              "      <td>3</td>\n",
              "      <td>6</td>\n",
              "      <td>2</td>\n",
              "      <td>32</td>\n",
              "      <td>3000</td>\n",
              "      <td>2</td>\n",
              "      <td>3</td>\n",
              "      <td>300</td>\n",
              "      <td>6900</td>\n",
              "    </tr>\n",
              "    <tr>\n",
              "      <th>4</th>\n",
              "      <td>CCP761U</td>\n",
              "      <td>no</td>\n",
              "      <td>yes</td>\n",
              "      <td>yes</td>\n",
              "      <td>no</td>\n",
              "      <td>1280</td>\n",
              "      <td>1080</td>\n",
              "      <td>4</td>\n",
              "      <td>3</td>\n",
              "      <td>6</td>\n",
              "      <td>2</td>\n",
              "      <td>16</td>\n",
              "      <td>3000</td>\n",
              "      <td>2</td>\n",
              "      <td>3</td>\n",
              "      <td>210</td>\n",
              "      <td>5600</td>\n",
              "    </tr>\n",
              "  </tbody>\n",
              "</table>\n",
              "</div>\n",
              "    <div class=\"colab-df-buttons\">\n",
              "\n",
              "  <div class=\"colab-df-container\">\n",
              "    <button class=\"colab-df-convert\" onclick=\"convertToInteractive('df-9557fd83-9010-4e01-a0bb-d62820eff4f4')\"\n",
              "            title=\"Convert this dataframe to an interactive table.\"\n",
              "            style=\"display:none;\">\n",
              "\n",
              "  <svg xmlns=\"http://www.w3.org/2000/svg\" height=\"24px\" viewBox=\"0 -960 960 960\">\n",
              "    <path d=\"M120-120v-720h720v720H120Zm60-500h600v-160H180v160Zm220 220h160v-160H400v160Zm0 220h160v-160H400v160ZM180-400h160v-160H180v160Zm440 0h160v-160H620v160ZM180-180h160v-160H180v160Zm440 0h160v-160H620v160Z\"/>\n",
              "  </svg>\n",
              "    </button>\n",
              "\n",
              "  <style>\n",
              "    .colab-df-container {\n",
              "      display:flex;\n",
              "      gap: 12px;\n",
              "    }\n",
              "\n",
              "    .colab-df-convert {\n",
              "      background-color: #E8F0FE;\n",
              "      border: none;\n",
              "      border-radius: 50%;\n",
              "      cursor: pointer;\n",
              "      display: none;\n",
              "      fill: #1967D2;\n",
              "      height: 32px;\n",
              "      padding: 0 0 0 0;\n",
              "      width: 32px;\n",
              "    }\n",
              "\n",
              "    .colab-df-convert:hover {\n",
              "      background-color: #E2EBFA;\n",
              "      box-shadow: 0px 1px 2px rgba(60, 64, 67, 0.3), 0px 1px 3px 1px rgba(60, 64, 67, 0.15);\n",
              "      fill: #174EA6;\n",
              "    }\n",
              "\n",
              "    .colab-df-buttons div {\n",
              "      margin-bottom: 4px;\n",
              "    }\n",
              "\n",
              "    [theme=dark] .colab-df-convert {\n",
              "      background-color: #3B4455;\n",
              "      fill: #D2E3FC;\n",
              "    }\n",
              "\n",
              "    [theme=dark] .colab-df-convert:hover {\n",
              "      background-color: #434B5C;\n",
              "      box-shadow: 0px 1px 3px 1px rgba(0, 0, 0, 0.15);\n",
              "      filter: drop-shadow(0px 1px 2px rgba(0, 0, 0, 0.3));\n",
              "      fill: #FFFFFF;\n",
              "    }\n",
              "  </style>\n",
              "\n",
              "    <script>\n",
              "      const buttonEl =\n",
              "        document.querySelector('#df-9557fd83-9010-4e01-a0bb-d62820eff4f4 button.colab-df-convert');\n",
              "      buttonEl.style.display =\n",
              "        google.colab.kernel.accessAllowed ? 'block' : 'none';\n",
              "\n",
              "      async function convertToInteractive(key) {\n",
              "        const element = document.querySelector('#df-9557fd83-9010-4e01-a0bb-d62820eff4f4');\n",
              "        const dataTable =\n",
              "          await google.colab.kernel.invokeFunction('convertToInteractive',\n",
              "                                                    [key], {});\n",
              "        if (!dataTable) return;\n",
              "\n",
              "        const docLinkHtml = 'Like what you see? Visit the ' +\n",
              "          '<a target=\"_blank\" href=https://colab.research.google.com/notebooks/data_table.ipynb>data table notebook</a>'\n",
              "          + ' to learn more about interactive tables.';\n",
              "        element.innerHTML = '';\n",
              "        dataTable['output_type'] = 'display_data';\n",
              "        await google.colab.output.renderOutput(dataTable, element);\n",
              "        const docLink = document.createElement('div');\n",
              "        docLink.innerHTML = docLinkHtml;\n",
              "        element.appendChild(docLink);\n",
              "      }\n",
              "    </script>\n",
              "  </div>\n",
              "\n",
              "\n",
              "<div id=\"df-cd9375f2-0983-4f19-a09b-5f60b64a7d00\">\n",
              "  <button class=\"colab-df-quickchart\" onclick=\"quickchart('df-cd9375f2-0983-4f19-a09b-5f60b64a7d00')\"\n",
              "            title=\"Suggest charts\"\n",
              "            style=\"display:none;\">\n",
              "\n",
              "<svg xmlns=\"http://www.w3.org/2000/svg\" height=\"24px\"viewBox=\"0 0 24 24\"\n",
              "     width=\"24px\">\n",
              "    <g>\n",
              "        <path d=\"M19 3H5c-1.1 0-2 .9-2 2v14c0 1.1.9 2 2 2h14c1.1 0 2-.9 2-2V5c0-1.1-.9-2-2-2zM9 17H7v-7h2v7zm4 0h-2V7h2v10zm4 0h-2v-4h2v4z\"/>\n",
              "    </g>\n",
              "</svg>\n",
              "  </button>\n",
              "\n",
              "<style>\n",
              "  .colab-df-quickchart {\n",
              "      --bg-color: #E8F0FE;\n",
              "      --fill-color: #1967D2;\n",
              "      --hover-bg-color: #E2EBFA;\n",
              "      --hover-fill-color: #174EA6;\n",
              "      --disabled-fill-color: #AAA;\n",
              "      --disabled-bg-color: #DDD;\n",
              "  }\n",
              "\n",
              "  [theme=dark] .colab-df-quickchart {\n",
              "      --bg-color: #3B4455;\n",
              "      --fill-color: #D2E3FC;\n",
              "      --hover-bg-color: #434B5C;\n",
              "      --hover-fill-color: #FFFFFF;\n",
              "      --disabled-bg-color: #3B4455;\n",
              "      --disabled-fill-color: #666;\n",
              "  }\n",
              "\n",
              "  .colab-df-quickchart {\n",
              "    background-color: var(--bg-color);\n",
              "    border: none;\n",
              "    border-radius: 50%;\n",
              "    cursor: pointer;\n",
              "    display: none;\n",
              "    fill: var(--fill-color);\n",
              "    height: 32px;\n",
              "    padding: 0;\n",
              "    width: 32px;\n",
              "  }\n",
              "\n",
              "  .colab-df-quickchart:hover {\n",
              "    background-color: var(--hover-bg-color);\n",
              "    box-shadow: 0 1px 2px rgba(60, 64, 67, 0.3), 0 1px 3px 1px rgba(60, 64, 67, 0.15);\n",
              "    fill: var(--button-hover-fill-color);\n",
              "  }\n",
              "\n",
              "  .colab-df-quickchart-complete:disabled,\n",
              "  .colab-df-quickchart-complete:disabled:hover {\n",
              "    background-color: var(--disabled-bg-color);\n",
              "    fill: var(--disabled-fill-color);\n",
              "    box-shadow: none;\n",
              "  }\n",
              "\n",
              "  .colab-df-spinner {\n",
              "    border: 2px solid var(--fill-color);\n",
              "    border-color: transparent;\n",
              "    border-bottom-color: var(--fill-color);\n",
              "    animation:\n",
              "      spin 1s steps(1) infinite;\n",
              "  }\n",
              "\n",
              "  @keyframes spin {\n",
              "    0% {\n",
              "      border-color: transparent;\n",
              "      border-bottom-color: var(--fill-color);\n",
              "      border-left-color: var(--fill-color);\n",
              "    }\n",
              "    20% {\n",
              "      border-color: transparent;\n",
              "      border-left-color: var(--fill-color);\n",
              "      border-top-color: var(--fill-color);\n",
              "    }\n",
              "    30% {\n",
              "      border-color: transparent;\n",
              "      border-left-color: var(--fill-color);\n",
              "      border-top-color: var(--fill-color);\n",
              "      border-right-color: var(--fill-color);\n",
              "    }\n",
              "    40% {\n",
              "      border-color: transparent;\n",
              "      border-right-color: var(--fill-color);\n",
              "      border-top-color: var(--fill-color);\n",
              "    }\n",
              "    60% {\n",
              "      border-color: transparent;\n",
              "      border-right-color: var(--fill-color);\n",
              "    }\n",
              "    80% {\n",
              "      border-color: transparent;\n",
              "      border-right-color: var(--fill-color);\n",
              "      border-bottom-color: var(--fill-color);\n",
              "    }\n",
              "    90% {\n",
              "      border-color: transparent;\n",
              "      border-bottom-color: var(--fill-color);\n",
              "    }\n",
              "  }\n",
              "</style>\n",
              "\n",
              "  <script>\n",
              "    async function quickchart(key) {\n",
              "      const quickchartButtonEl =\n",
              "        document.querySelector('#' + key + ' button');\n",
              "      quickchartButtonEl.disabled = true;  // To prevent multiple clicks.\n",
              "      quickchartButtonEl.classList.add('colab-df-spinner');\n",
              "      try {\n",
              "        const charts = await google.colab.kernel.invokeFunction(\n",
              "            'suggestCharts', [key], {});\n",
              "      } catch (error) {\n",
              "        console.error('Error during call to suggestCharts:', error);\n",
              "      }\n",
              "      quickchartButtonEl.classList.remove('colab-df-spinner');\n",
              "      quickchartButtonEl.classList.add('colab-df-quickchart-complete');\n",
              "    }\n",
              "    (() => {\n",
              "      let quickchartButtonEl =\n",
              "        document.querySelector('#df-cd9375f2-0983-4f19-a09b-5f60b64a7d00 button');\n",
              "      quickchartButtonEl.style.display =\n",
              "        google.colab.kernel.accessAllowed ? 'block' : 'none';\n",
              "    })();\n",
              "  </script>\n",
              "</div>\n",
              "\n",
              "    </div>\n",
              "  </div>\n"
            ],
            "application/vnd.google.colaboratory.intrinsic+json": {
              "type": "dataframe",
              "variable_name": "data",
              "summary": "{\n  \"name\": \"data\",\n  \"rows\": 50,\n  \"fields\": [\n    {\n      \"column\": \"PID\",\n      \"properties\": {\n        \"dtype\": \"string\",\n        \"num_unique_values\": 50,\n        \"samples\": [\n          \"NAJ56GL\",\n          \"VYI666I\",\n          \"TVF078Y\"\n        ],\n        \"semantic_type\": \"\",\n        \"description\": \"\"\n      }\n    },\n    {\n      \"column\": \"Blue\",\n      \"properties\": {\n        \"dtype\": \"category\",\n        \"num_unique_values\": 2,\n        \"samples\": [\n          \"no\",\n          \"yes\"\n        ],\n        \"semantic_type\": \"\",\n        \"description\": \"\"\n      }\n    },\n    {\n      \"column\": \"Wi_Fi\",\n      \"properties\": {\n        \"dtype\": \"category\",\n        \"num_unique_values\": 2,\n        \"samples\": [\n          \"no\",\n          \"yes\"\n        ],\n        \"semantic_type\": \"\",\n        \"description\": \"\"\n      }\n    },\n    {\n      \"column\": \"Tch_Scr\",\n      \"properties\": {\n        \"dtype\": \"category\",\n        \"num_unique_values\": 2,\n        \"samples\": [\n          \"yes\",\n          \"no\"\n        ],\n        \"semantic_type\": \"\",\n        \"description\": \"\"\n      }\n    },\n    {\n      \"column\": \"Ext_Mem\",\n      \"properties\": {\n        \"dtype\": \"category\",\n        \"num_unique_values\": 2,\n        \"samples\": [\n          \"yes\",\n          \"no\"\n        ],\n        \"semantic_type\": \"\",\n        \"description\": \"\"\n      }\n    },\n    {\n      \"column\": \"Px_h\",\n      \"properties\": {\n        \"dtype\": \"number\",\n        \"std\": 598,\n        \"min\": 780,\n        \"max\": 2880,\n        \"num_unique_values\": 10,\n        \"samples\": [\n          1440,\n          840\n        ],\n        \"semantic_type\": \"\",\n        \"description\": \"\"\n      }\n    },\n    {\n      \"column\": \"Px_w\",\n      \"properties\": {\n        \"dtype\": \"number\",\n        \"std\": 469,\n        \"min\": 460,\n        \"max\": 2520,\n        \"num_unique_values\": 12,\n        \"samples\": [\n          1280,\n          1760\n        ],\n        \"semantic_type\": \"\",\n        \"description\": \"\"\n      }\n    },\n    {\n      \"column\": \"Scr_h\",\n      \"properties\": {\n        \"dtype\": \"number\",\n        \"std\": 2,\n        \"min\": 2,\n        \"max\": 10,\n        \"num_unique_values\": 7,\n        \"samples\": [\n          3,\n          2\n        ],\n        \"semantic_type\": \"\",\n        \"description\": \"\"\n      }\n    },\n    {\n      \"column\": \"Scr_w\",\n      \"properties\": {\n        \"dtype\": \"number\",\n        \"std\": 1,\n        \"min\": 1,\n        \"max\": 8,\n        \"num_unique_values\": 6,\n        \"samples\": [\n          1,\n          3\n        ],\n        \"semantic_type\": \"\",\n        \"description\": \"\"\n      }\n    },\n    {\n      \"column\": \"PC\",\n      \"properties\": {\n        \"dtype\": \"number\",\n        \"std\": 30,\n        \"min\": 2,\n        \"max\": 128,\n        \"num_unique_values\": 11,\n        \"samples\": [\n          32,\n          2\n        ],\n        \"semantic_type\": \"\",\n        \"description\": \"\"\n      }\n    },\n    {\n      \"column\": \"FC\",\n      \"properties\": {\n        \"dtype\": \"number\",\n        \"std\": 14,\n        \"min\": 2,\n        \"max\": 64,\n        \"num_unique_values\": 7,\n        \"samples\": [\n          2,\n          4\n        ],\n        \"semantic_type\": \"\",\n        \"description\": \"\"\n      }\n    },\n    {\n      \"column\": \"Int_Mem\",\n      \"properties\": {\n        \"dtype\": \"number\",\n        \"std\": 261,\n        \"min\": 8,\n        \"max\": 1024,\n        \"num_unique_values\": 8,\n        \"samples\": [\n          32,\n          512\n        ],\n        \"semantic_type\": \"\",\n        \"description\": \"\"\n      }\n    },\n    {\n      \"column\": \"Bty_Pwr\",\n      \"properties\": {\n        \"dtype\": \"number\",\n        \"std\": 958,\n        \"min\": 2300,\n        \"max\": 5600,\n        \"num_unique_values\": 19,\n        \"samples\": [\n          2800,\n          4380\n        ],\n        \"semantic_type\": \"\",\n        \"description\": \"\"\n      }\n    },\n    {\n      \"column\": \"RAM\",\n      \"properties\": {\n        \"dtype\": \"number\",\n        \"std\": 2,\n        \"min\": 2,\n        \"max\": 12,\n        \"num_unique_values\": 5,\n        \"samples\": [\n          6,\n          12\n        ],\n        \"semantic_type\": \"\",\n        \"description\": \"\"\n      }\n    },\n    {\n      \"column\": \"Depth\",\n      \"properties\": {\n        \"dtype\": \"number\",\n        \"std\": 1,\n        \"min\": 2,\n        \"max\": 7,\n        \"num_unique_values\": 4,\n        \"samples\": [\n          3,\n          2\n        ],\n        \"semantic_type\": \"\",\n        \"description\": \"\"\n      }\n    },\n    {\n      \"column\": \"Weight\",\n      \"properties\": {\n        \"dtype\": \"number\",\n        \"std\": 75,\n        \"min\": 80,\n        \"max\": 400,\n        \"num_unique_values\": 25,\n        \"samples\": [\n          120,\n          170\n        ],\n        \"semantic_type\": \"\",\n        \"description\": \"\"\n      }\n    },\n    {\n      \"column\": \"Price\",\n      \"properties\": {\n        \"dtype\": \"number\",\n        \"std\": 25037,\n        \"min\": 3297,\n        \"max\": 149000,\n        \"num_unique_values\": 49,\n        \"samples\": [\n          23600,\n          56000\n        ],\n        \"semantic_type\": \"\",\n        \"description\": \"\"\n      }\n    }\n  ]\n}"
            }
          },
          "metadata": {},
          "execution_count": 24
        }
      ],
      "source": [
        "# Take a brief look at the data\n",
        "data.head()"
      ]
    },
    {
      "cell_type": "code",
      "execution_count": null,
      "metadata": {
        "id": "0jdoVTnIN85_",
        "colab": {
          "base_uri": "https://localhost:8080/"
        },
        "outputId": "f7044088-c36b-42d4-b002-f4d05a6ecb39"
      },
      "outputs": [
        {
          "output_type": "execute_result",
          "data": {
            "text/plain": [
              "(50, 17)"
            ]
          },
          "metadata": {},
          "execution_count": 25
        }
      ],
      "source": [
        "# Get the dimensions of the dataframe\n",
        "data.shape"
      ]
    },
    {
      "cell_type": "code",
      "execution_count": null,
      "metadata": {
        "id": "y28qZAzdN86B",
        "colab": {
          "base_uri": "https://localhost:8080/"
        },
        "outputId": "e24cc22d-e60f-4f36-92b7-64bccb35be2a"
      },
      "outputs": [
        {
          "output_type": "execute_result",
          "data": {
            "text/plain": [
              "RangeIndex(start=0, stop=50, step=1)"
            ]
          },
          "metadata": {},
          "execution_count": 26
        }
      ],
      "source": [
        "# Get the row names of the dataframe\n",
        "data.index"
      ]
    },
    {
      "cell_type": "code",
      "execution_count": null,
      "metadata": {
        "id": "u3wUbIm7N86C",
        "colab": {
          "base_uri": "https://localhost:8080/"
        },
        "outputId": "b71fb2aa-4f52-4c68-d004-fe3e7fb8f97e"
      },
      "outputs": [
        {
          "output_type": "execute_result",
          "data": {
            "text/plain": [
              "Index(['PID', 'Blue', 'Wi_Fi', 'Tch_Scr', 'Ext_Mem', 'Px_h', 'Px_w', 'Scr_h',\n",
              "       'Scr_w', 'PC', 'FC', 'Int_Mem', 'Bty_Pwr', 'RAM', 'Depth', 'Weight',\n",
              "       'Price'],\n",
              "      dtype='object')"
            ]
          },
          "metadata": {},
          "execution_count": 27
        }
      ],
      "source": [
        "# Get the column names of the dataframe\n",
        "data.columns"
      ]
    },
    {
      "cell_type": "code",
      "execution_count": null,
      "metadata": {
        "id": "zoJdOWbKN86D",
        "colab": {
          "base_uri": "https://localhost:8080/"
        },
        "outputId": "a1eb1379-631b-4e59-b202-5e31a3d4899a"
      },
      "outputs": [
        {
          "output_type": "stream",
          "name": "stdout",
          "text": [
            "<class 'pandas.core.frame.DataFrame'>\n",
            "RangeIndex: 50 entries, 0 to 49\n",
            "Data columns (total 17 columns):\n",
            " #   Column   Non-Null Count  Dtype \n",
            "---  ------   --------------  ----- \n",
            " 0   PID      50 non-null     object\n",
            " 1   Blue     50 non-null     object\n",
            " 2   Wi_Fi    50 non-null     object\n",
            " 3   Tch_Scr  50 non-null     object\n",
            " 4   Ext_Mem  50 non-null     object\n",
            " 5   Px_h     50 non-null     int64 \n",
            " 6   Px_w     50 non-null     int64 \n",
            " 7   Scr_h    50 non-null     int64 \n",
            " 8   Scr_w    50 non-null     int64 \n",
            " 9   PC       50 non-null     int64 \n",
            " 10  FC       50 non-null     int64 \n",
            " 11  Int_Mem  50 non-null     int64 \n",
            " 12  Bty_Pwr  50 non-null     int64 \n",
            " 13  RAM      50 non-null     int64 \n",
            " 14  Depth    50 non-null     int64 \n",
            " 15  Weight   50 non-null     int64 \n",
            " 16  Price    50 non-null     int64 \n",
            "dtypes: int64(12), object(5)\n",
            "memory usage: 6.8+ KB\n"
          ]
        }
      ],
      "source": [
        "# Look at basic information about the dataframe\n",
        "data.info()"
      ]
    },
    {
      "cell_type": "markdown",
      "source": [
        "Observations:\n",
        "\n",
        "There are 50 phones in the data set.\n",
        "\n",
        "There are 17 features in the data set including the \"PID\" feature which is used as the row index labels.\n",
        "\n",
        "There are no missing values in the data set."
      ],
      "metadata": {
        "id": "Yp1sfFKKQQLR"
      }
    },
    {
      "cell_type": "code",
      "execution_count": null,
      "metadata": {
        "id": "F7O4y4kyN86F"
      },
      "outputs": [],
      "source": []
    },
    {
      "cell_type": "markdown",
      "source": [
        "<center>Let's try some logical operators to filter the data.<center>"
      ],
      "metadata": {
        "id": "K6wSkK61E57v"
      }
    },
    {
      "cell_type": "markdown",
      "source": [
        "![](https://th.bing.com/th/id/R.0592084daa6518e4fae97f47217ec69e?rik=vNqmiaTVSSo54w&riu=http%3a%2f%2f2.bp.blogspot.com%2f-ujABms6N-Cg%2fTyYwShdTjnI%2fAAAAAAAAAAs%2fktPbHdifidc%2fs1600%2fLogical%2bOperators.PNG&ehk=ww1gl1HB2PcZwPQNHWRUvcQ631Q3mzyHSxL9G4zUKT4%3d&risl=&pid=ImgRaw&r=0,width=700,height=400)"
      ],
      "metadata": {
        "id": "Fjx3ajuFFN5H"
      }
    },
    {
      "cell_type": "markdown",
      "source": [
        "## Task 2 - Obtain the logical conditions for the features \"Blue\", \"Wi_Fi\", \"Tch_Scr\" and \"Ext_Mem\""
      ],
      "metadata": {
        "id": "zBarC8WVQZG7"
      }
    },
    {
      "cell_type": "code",
      "execution_count": null,
      "metadata": {
        "id": "RAV76P19N86G"
      },
      "outputs": [],
      "source": [
        "# Get the feature names of the dataframe\n",
        "blue = data['Blue'].unique()\n",
        "wifi = data['Wi_Fi'].unique()\n",
        "tch = data['Tch_Scr'].unique()\n",
        "ext= data['Ext_Mem'].unique()\n"
      ]
    },
    {
      "cell_type": "markdown",
      "source": [],
      "metadata": {
        "id": "Z4ZTeLqOBo-P"
      }
    },
    {
      "cell_type": "code",
      "execution_count": null,
      "metadata": {
        "id": "4qnHqu_vN86H",
        "colab": {
          "base_uri": "https://localhost:8080/"
        },
        "outputId": "893cd088-580d-4e66-c1d0-66d05de7e321"
      },
      "outputs": [
        {
          "output_type": "stream",
          "name": "stdout",
          "text": [
            "['yes' 'no']\n",
            "['yes' 'no']\n",
            "['no' 'yes']\n",
            "['no' 'yes']\n"
          ]
        }
      ],
      "source": [
        "# Let's tackle these features: \"Blue\", \"Wi_Fi\", \"Tch_Scr\", \"Ext_Mem\"\n",
        "print(blue)\n",
        "print(wifi)\n",
        "print(tch)\n",
        "print(ext)"
      ]
    },
    {
      "cell_type": "code",
      "execution_count": null,
      "metadata": {
        "id": "8N-jff5hN86I",
        "colab": {
          "base_uri": "https://localhost:8080/"
        },
        "outputId": "5db10df5-ecf5-41b9-e199-9450e4e58c2e"
      },
      "outputs": [
        {
          "output_type": "stream",
          "name": "stdout",
          "text": [
            "       PID Blue Wi_Fi Tch_Scr Ext_Mem   con1\n",
            "0  AAB346A  yes   yes      no      no  False\n",
            "1  AAC347I  yes   yes      no      no  False\n",
            "2  BAB657J   no   yes      no      no  False\n",
            "3  BBD456K   no   yes     yes      no  False\n",
            "4  CCP761U   no   yes     yes      no  False\n"
          ]
        }
      ],
      "source": [
        "# The children want phones that have the following: Bluetooth, WiFi, touch screen and external memory support\n",
        "# Create a logical condition for this situation and store the logical values as \"con1\"\n",
        "con1 = (data['Blue'] == 'Yes') & (data['Wi_Fi'] == 'Yes') & (data['Tch_Scr'] == 'Yes') & (data['Ext_Mem'] == 'Yes')\n",
        "data['con1'] = con1\n",
        "print(data[['PID', 'Blue', 'Wi_Fi', 'Tch_Scr', 'Ext_Mem', 'con1']].head())"
      ]
    },
    {
      "cell_type": "markdown",
      "source": [
        "Observations:\n",
        "\n",
        "The features \"Blue\", \"Wi_Fi\", \"Tch_Scr\" and \"Ext_Mem\" are binary in nature.\n",
        "\n",
        "The children want all these features, so the logical condition \"con1\" has been obtained accordingly."
      ],
      "metadata": {
        "id": "KilesitnQjMF"
      }
    },
    {
      "cell_type": "markdown",
      "source": [
        "## Task 3 - Obtain the logical conditions for the features \"Px_h\" and \"Px_w\""
      ],
      "metadata": {
        "id": "n8qZScOZQsj3"
      }
    },
    {
      "cell_type": "code",
      "execution_count": null,
      "metadata": {
        "id": "UgpsX9ZYN86M"
      },
      "outputs": [],
      "source": [
        "# Get the feature names of the dataframe\n",
        "d1=data['Px_h'].describe()\n",
        "d2 = data['Px_w'].describe()"
      ]
    },
    {
      "cell_type": "code",
      "execution_count": null,
      "metadata": {
        "id": "HvY0q-JeN86N",
        "colab": {
          "base_uri": "https://localhost:8080/"
        },
        "outputId": "f934e7b8-bca5-4de0-db75-6cadc7627d56"
      },
      "outputs": [
        {
          "output_type": "stream",
          "name": "stdout",
          "text": [
            "count      50.000000\n",
            "mean     2319.400000\n",
            "std       598.400623\n",
            "min       780.000000\n",
            "25%      2080.000000\n",
            "50%      2580.000000\n",
            "75%      2580.000000\n",
            "max      2880.000000\n",
            "Name: Px_h, dtype: float64\n",
            "count      50.000000\n",
            "mean     1833.200000\n",
            "std       469.713069\n",
            "min       460.000000\n",
            "25%      1775.000000\n",
            "50%      1980.000000\n",
            "75%      2120.000000\n",
            "max      2520.000000\n",
            "Name: Px_w, dtype: float64\n"
          ]
        }
      ],
      "source": [
        "# Let's tackle these features: \"Px_h\", \"Px_w\"\n",
        "print(d1)\n",
        "print(d2)"
      ]
    },
    {
      "cell_type": "code",
      "execution_count": null,
      "metadata": {
        "id": "9g8VvPLiN86O",
        "colab": {
          "base_uri": "https://localhost:8080/"
        },
        "outputId": "c52ae169-1f25-478d-c879-7ae95455c64c"
      },
      "outputs": [
        {
          "output_type": "stream",
          "name": "stdout",
          "text": [
            "       PID  Px_h  Px_w       Px\n",
            "0  AAB346A   780   460   358800\n",
            "1  AAC347I   780   560   436800\n",
            "2  BAB657J   840   720   604800\n",
            "3  BBD456K  1280  1120  1433600\n",
            "4  CCP761U  1280  1080  1382400\n"
          ]
        }
      ],
      "source": [
        "# Create a new feature called \"Px\" which stores the total resolution of the screen\n",
        "data['Px'] = data['Px_h'] * data['Px_w']\n",
        "print(data[['PID', 'Px_h', 'Px_w', 'Px']].head())"
      ]
    },
    {
      "cell_type": "code",
      "source": [
        "mean1=data['Px'].mean()\n",
        "median1=data['Px'].median()\n"
      ],
      "metadata": {
        "id": "uOu70khoRLo-"
      },
      "execution_count": null,
      "outputs": []
    },
    {
      "cell_type": "code",
      "execution_count": null,
      "metadata": {
        "id": "nbYsIHpjN86P",
        "colab": {
          "base_uri": "https://localhost:8080/",
          "height": 564
        },
        "collapsed": true,
        "outputId": "04473b4f-0e98-408b-d89d-96b909a3f882"
      },
      "outputs": [
        {
          "output_type": "display_data",
          "data": {
            "text/plain": [
              "<Figure size 1100x600 with 1 Axes>"
            ],
            "image/png": "[encoded data removed]"
          },
          "metadata": {}
        }
      ],
      "source": [
        "# Create a histogram of the \"Px\" feature and also show the mean and the median\n",
        "\n",
        "plt.figure(figsize = (11, 6))\n",
        "\n",
        "sns.histplot(data = data, x = 'Px', color = 'green',\n",
        "             edgecolor = 'linen', alpha = 0.5, bins = 10)\n",
        "\n",
        "plt.title(\"Histogram for Px\")\n",
        "plt.xlabel('Px')\n",
        "plt.ylabel('Count')\n",
        "plt.vlines(mean1,ymin=0,ymax=data['Px'].value_counts().max(), colors='blue', label='Mean')\n",
        "plt.vlines(median1, ymin=0,ymax=data['Px'].value_counts().max(), colors='red', label='Median')\n",
        "plt.legend()\n",
        "plt.show()"
      ]
    },
    {
      "cell_type": "code",
      "execution_count": null,
      "metadata": {
        "id": "SxaYgagyN86Q",
        "colab": {
          "base_uri": "https://localhost:8080/"
        },
        "outputId": "16c030ad-f9f3-4fea-ba6d-7814701e3113"
      },
      "outputs": [
        {
          "output_type": "stream",
          "name": "stdout",
          "text": [
            "0     False\n",
            "1     False\n",
            "2     False\n",
            "3     False\n",
            "4     False\n",
            "5     False\n",
            "6     False\n",
            "7      True\n",
            "8     False\n",
            "9      True\n",
            "10    False\n",
            "11    False\n",
            "12     True\n",
            "13     True\n",
            "14    False\n",
            "15    False\n",
            "16     True\n",
            "17     True\n",
            "18    False\n",
            "19     True\n",
            "20    False\n",
            "21     True\n",
            "22    False\n",
            "23     True\n",
            "24    False\n",
            "25     True\n",
            "26    False\n",
            "27     True\n",
            "28     True\n",
            "29     True\n",
            "30     True\n",
            "31     True\n",
            "32     True\n",
            "33     True\n",
            "34     True\n",
            "35     True\n",
            "36     True\n",
            "37    False\n",
            "38    False\n",
            "39    False\n",
            "40     True\n",
            "41     True\n",
            "42     True\n",
            "43     True\n",
            "44     True\n",
            "45     True\n",
            "46     True\n",
            "47     True\n",
            "48     True\n",
            "49     True\n",
            "Name: ScreenResolution, dtype: bool\n"
          ]
        }
      ],
      "source": [
        "# The children want phones that have good screen resolutions\n",
        "# Consider the phones that have screen resolutions greater than or equal to the median value in the data set\n",
        "# Create a logical condition for this situation and store the logical values as \"con2\"\n",
        "data['ScreenResolution'] = data['Px_h'] * data['Px_w']\n",
        "mediansol= data['ScreenResolution'].median()\n",
        "con2 = data['ScreenResolution'] >= mediansol\n",
        "print(con2)"
      ]
    },
    {
      "cell_type": "markdown",
      "source": [
        "Observations:\n",
        "\n",
        "The features \"Px_h\" and \"Px_w\" are respectively the number of pixels in the phone screen in the vertical and horizontal axes.\n",
        "\n",
        "We created a new feature called \"Px\" which is the product of the features \"Px_h\" and \"Px_w\".\n",
        "\n",
        "The median has been selected as a threshold in this case.\n",
        "\n",
        "In case it is too strict, we can choose the mean as a threshold."
      ],
      "metadata": {
        "id": "M-DC9VY2RBZQ"
      }
    },
    {
      "cell_type": "markdown",
      "source": [
        "# Task 4 - Obtain the logical conditions for the features \"Scr_h\" and \"Scr_w\""
      ],
      "metadata": {
        "id": "ih3ev8-0RJg5"
      }
    },
    {
      "cell_type": "code",
      "execution_count": null,
      "metadata": {
        "id": "EsEcEKKTN86T"
      },
      "outputs": [],
      "source": [
        "# Let's tackle these features: \"Scr_h\", \"Scr_w\""
      ]
    },
    {
      "cell_type": "code",
      "execution_count": null,
      "metadata": {
        "id": "qTOcx3FCN86U",
        "colab": {
          "base_uri": "https://localhost:8080/"
        },
        "outputId": "20bfabcb-6438-4016-a6a2-252ef3254cf3"
      },
      "outputs": [
        {
          "output_type": "stream",
          "name": "stdout",
          "text": [
            "0      3.162278\n",
            "1      2.236068\n",
            "2      2.236068\n",
            "3      5.830952\n",
            "4      5.000000\n",
            "5      5.000000\n",
            "6      6.708204\n",
            "7     10.000000\n",
            "8      6.708204\n",
            "9      5.830952\n",
            "10     6.708204\n",
            "11    10.000000\n",
            "12     7.810250\n",
            "13     7.810250\n",
            "14     5.830952\n",
            "15    12.806248\n",
            "16    10.000000\n",
            "17    10.000000\n",
            "18    10.000000\n",
            "19     5.000000\n",
            "20     5.000000\n",
            "21    10.000000\n",
            "22     5.000000\n",
            "23    12.806248\n",
            "24     7.211103\n",
            "25     6.708204\n",
            "26     5.830952\n",
            "27    10.000000\n",
            "28    10.000000\n",
            "29    10.000000\n",
            "30    10.000000\n",
            "31    10.000000\n",
            "32    10.000000\n",
            "33    10.000000\n",
            "34     6.708204\n",
            "35     5.830952\n",
            "36    12.806248\n",
            "37     5.830952\n",
            "38     5.830952\n",
            "39     7.810250\n",
            "40     5.830952\n",
            "41    10.000000\n",
            "42    10.000000\n",
            "43    10.000000\n",
            "44    12.806248\n",
            "45    10.000000\n",
            "46     5.000000\n",
            "47    10.000000\n",
            "48    10.000000\n",
            "49    10.000000\n",
            "Name: Scr_d, dtype: float64\n"
          ]
        }
      ],
      "source": [
        "# Create a new feature called \"Scr_d\" which stores the length of the diagonal of the screen of the phone\n",
        "data['Scr_d'] = np.sqrt(data['Scr_h']**2 + data['Scr_w']**2)\n",
        "print(data['Scr_d'])"
      ]
    },
    {
      "cell_type": "code",
      "execution_count": null,
      "metadata": {
        "id": "83gzdEN7N86U",
        "colab": {
          "base_uri": "https://localhost:8080/",
          "height": 564
        },
        "outputId": "a8192da1-6545-43fc-b8b6-d1d5dd825562"
      },
      "outputs": [
        {
          "output_type": "display_data",
          "data": {
            "text/plain": [
              "<Figure size 1100x600 with 1 Axes>"
            ],
            "image/png": "[encoded data removed]"
          },
          "metadata": {}
        }
      ],
      "source": [
        "# Create a histogram of the \"Scr_d\" feature and also show the quartiles\n",
        "Q1 = data['Scr_d'].quantile(0.25)\n",
        "Q2 = data['Scr_d'].median()\n",
        "Q3 = data['Scr_d'].quantile(0.75)\n",
        "\n",
        "plt.figure(figsize=(11, 6))\n",
        "sns.histplot(data=data, x='Scr_d', color='blue', edgecolor='black', alpha=0.5, bins=10)\n",
        "plt.title(\"Histogram for Scr_d\")\n",
        "plt.xlabel('Scr_d')\n",
        "plt.ylabel('Count')\n",
        "\n",
        "# Plot quartiles\n",
        "plt.vlines(Q1, ymin=0, ymax=data['Scr_d'].value_counts().max(), colors='green', label='Q1 (25th percentile)')\n",
        "plt.vlines(Q2, ymin=0, ymax=data['Scr_d'].value_counts().max(), colors='orange', label='Q2 (Median)')\n",
        "plt.vlines(Q3, ymin=0, ymax=data['Scr_d'].value_counts().max(), colors='red', label='Q3 (75th percentile)')\n",
        "\n",
        "plt.legend()\n",
        "plt.show()"
      ]
    },
    {
      "cell_type": "code",
      "execution_count": null,
      "metadata": {
        "id": "aEvL_TPSN86V",
        "colab": {
          "base_uri": "https://localhost:8080/"
        },
        "outputId": "6c90c776-a218-4e72-bfd2-2dc6f0abb7ca"
      },
      "outputs": [
        {
          "output_type": "stream",
          "name": "stdout",
          "text": [
            "0     False\n",
            "1     False\n",
            "2     False\n",
            "3     False\n",
            "4     False\n",
            "5     False\n",
            "6     False\n",
            "7      True\n",
            "8     False\n",
            "9     False\n",
            "10    False\n",
            "11     True\n",
            "12    False\n",
            "13    False\n",
            "14    False\n",
            "15     True\n",
            "16     True\n",
            "17     True\n",
            "18     True\n",
            "19    False\n",
            "20    False\n",
            "21     True\n",
            "22    False\n",
            "23     True\n",
            "24    False\n",
            "25    False\n",
            "26    False\n",
            "27     True\n",
            "28     True\n",
            "29     True\n",
            "30     True\n",
            "31     True\n",
            "32     True\n",
            "33     True\n",
            "34    False\n",
            "35    False\n",
            "36     True\n",
            "37    False\n",
            "38    False\n",
            "39    False\n",
            "40    False\n",
            "41     True\n",
            "42     True\n",
            "43     True\n",
            "44     True\n",
            "45     True\n",
            "46    False\n",
            "47     True\n",
            "48     True\n",
            "49     True\n",
            "Name: Scr_d, dtype: bool\n"
          ]
        }
      ],
      "source": [
        "# The children want phones that have very good screen sizes\n",
        "# Consider the phones that have screen sizes greater than or equal to the upper quartile value in the data set\n",
        "# Create a logical condition for this situation and store the logical values as \"con3\"\n",
        "data['Scr_d'] = np.sqrt(data['Scr_h']**2 + data['Scr_w']**2)\n",
        "\n",
        "# Calculate the upper quartile (75th percentile) for the screen sizes\n",
        "Q3 = data['Scr_d'].quantile(0.75)\n",
        "\n",
        "# Create a logical condition for phones with screen sizes >= upper quartile value\n",
        "con3 = data['Scr_d'] >= Q3\n",
        "\n",
        "# Display the logical condition\n",
        "print(con3)\n",
        "\n"
      ]
    },
    {
      "cell_type": "markdown",
      "source": [
        "Observations:\n",
        "\n",
        "The features \"Scr_h\" and \"Scr_w\" are respectively the height and the width of the phone screen.\n",
        "\n",
        "We created a new feature called \"Scr_d\" which is essentially the length of the screen diagonal.\n",
        "\n",
        "The upper quartile has been selected as a threshold in this case as the children were very particular on this point.\n",
        "\n",
        "In case it is too strict, we can choose the mean or the median as a threshold."
      ],
      "metadata": {
        "id": "BKDitmp9RZDe"
      }
    },
    {
      "cell_type": "markdown",
      "source": [
        "# Task 5 - Obtain the logical conditions for the features \"PC\" and \"FC\""
      ],
      "metadata": {
        "id": "21dZEsZRRikD"
      }
    },
    {
      "cell_type": "code",
      "execution_count": null,
      "metadata": {
        "id": "lCQR8DBRN86Y"
      },
      "outputs": [],
      "source": [
        "# Let's tackle these features: \"PC\", \"FC\""
      ]
    },
    {
      "cell_type": "code",
      "execution_count": null,
      "metadata": {
        "id": "KtH-XWmqN86Z",
        "colab": {
          "base_uri": "https://localhost:8080/",
          "height": 564
        },
        "outputId": "528b4711-61ac-4ff2-8717-c52b7bd7fedb"
      },
      "outputs": [
        {
          "output_type": "display_data",
          "data": {
            "text/plain": [
              "<Figure size 1100x600 with 1 Axes>"
            ],
            "image/png": "[encoded data removed]"
          },
          "metadata": {}
        }
      ],
      "source": [
        "# Create a histogram of the \"PC\" feature and also show the mean and the median\n",
        "mean_PC = data['PC'].mean()\n",
        "median_PC = data['PC'].median()\n",
        "\n",
        "# Create the histogram\n",
        "plt.figure(figsize=(11, 6))\n",
        "sns.histplot(data=data, x='PC', color='blue', edgecolor='black', alpha=0.5, bins=10)\n",
        "plt.title(\"Histogram for Primary Camera (PC)\")\n",
        "plt.xlabel('PC')\n",
        "plt.ylabel('Count')\n",
        "\n",
        "# Plot mean and median\n",
        "plt.vlines(mean_PC, ymin=0, ymax=data['PC'].value_counts().max(), colors='orange', label='Mean')\n",
        "plt.vlines(median_PC, ymin=0, ymax=data['PC'].value_counts().max(), colors='red', label='Median')\n",
        "\n",
        "plt.legend()\n",
        "plt.show()"
      ]
    },
    {
      "cell_type": "code",
      "execution_count": null,
      "metadata": {
        "id": "vMp3OWR0N86a",
        "colab": {
          "base_uri": "https://localhost:8080/",
          "height": 564
        },
        "outputId": "56da2a46-6a41-4558-e65e-9db348d886fb"
      },
      "outputs": [
        {
          "output_type": "display_data",
          "data": {
            "text/plain": [
              "<Figure size 1100x600 with 1 Axes>"
            ],
            "image/png": "[encoded data removed]"
          },
          "metadata": {}
        }
      ],
      "source": [
        "# Create a histogram of the \"FC\" feature and also show the mean and the median\n",
        "mean_FC = data['FC'].mean()\n",
        "median_FC = data['FC'].median()\n",
        "\n",
        "# Create the histogram\n",
        "plt.figure(figsize=(11, 6))\n",
        "sns.histplot(data=data, x='FC', color='green', edgecolor='black', alpha=0.5, bins=10)\n",
        "plt.title(\"Histogram for Front Camera (FC)\")\n",
        "plt.xlabel('FC')\n",
        "plt.ylabel('Count')\n",
        "\n",
        "# Plot mean and median\n",
        "plt.vlines(mean_FC, ymin=0, ymax=data['FC'].value_counts().max(), colors='orange', label='Mean')\n",
        "plt.vlines(median_FC, ymin=0, ymax=data['FC'].value_counts().max(), colors='red', label='Median')\n",
        "\n",
        "plt.legend()\n",
        "plt.show()"
      ]
    },
    {
      "cell_type": "code",
      "execution_count": null,
      "metadata": {
        "id": "uwOY8IGoN86a",
        "colab": {
          "base_uri": "https://localhost:8080/"
        },
        "outputId": "051bde98-41aa-4774-baf3-85f875494d00"
      },
      "outputs": [
        {
          "output_type": "stream",
          "name": "stdout",
          "text": [
            "0     False\n",
            "1     False\n",
            "2     False\n",
            "3     False\n",
            "4     False\n",
            "5     False\n",
            "6     False\n",
            "7     False\n",
            "8     False\n",
            "9      True\n",
            "10    False\n",
            "11     True\n",
            "12     True\n",
            "13    False\n",
            "14    False\n",
            "15    False\n",
            "16     True\n",
            "17    False\n",
            "18    False\n",
            "19    False\n",
            "20    False\n",
            "21     True\n",
            "22    False\n",
            "23    False\n",
            "24    False\n",
            "25     True\n",
            "26    False\n",
            "27    False\n",
            "28     True\n",
            "29    False\n",
            "30     True\n",
            "31    False\n",
            "32     True\n",
            "33     True\n",
            "34     True\n",
            "35    False\n",
            "36     True\n",
            "37     True\n",
            "38     True\n",
            "39    False\n",
            "40     True\n",
            "41    False\n",
            "42     True\n",
            "43    False\n",
            "44     True\n",
            "45     True\n",
            "46     True\n",
            "47     True\n",
            "48     True\n",
            "49     True\n",
            "dtype: bool\n"
          ]
        }
      ],
      "source": [
        "# The children want phones that have good primary and front camera resolutions\n",
        "# Consider the phones that have primary and front camera resolutions greater than or equal to their respective mean values\n",
        "# Create a logical condition for this situation and store the logical values as \"con4\"\n",
        "mean_PC = data['PC'].mean()\n",
        "mean_FC = data['FC'].mean()\n",
        "\n",
        "# Create logical conditions\n",
        "con_PC = data['PC'] >= mean_PC\n",
        "con_FC = data['FC'] >= mean_FC\n",
        "\n",
        "# Combine conditions for phones with good primary and front camera resolutions\n",
        "con4 = con_PC & con_FC\n",
        "\n",
        "# Display the logical condition\n",
        "print(con4)"
      ]
    },
    {
      "cell_type": "markdown",
      "source": [
        "Observations:\n",
        "\n",
        "The features \"PC\" and \"FC\" are respectively the resolutions of the primary camera and the front camera.\n",
        "\n",
        "The respective means have been selected as thresholds in this case.\n",
        "\n",
        "In case it is too strict, we can choose the respective medians as thresholds."
      ],
      "metadata": {
        "id": "jo7yqfJSRvNT"
      }
    },
    {
      "cell_type": "markdown",
      "source": [
        "# Task 6 - Obtain the logical conditions for the features \"Int_Mem\", \"Bty_Pwr\" and \"RAM\""
      ],
      "metadata": {
        "id": "iu0E_MTAR3Pn"
      }
    },
    {
      "cell_type": "code",
      "execution_count": null,
      "metadata": {
        "id": "tnBJk7xFN86d"
      },
      "outputs": [],
      "source": [
        "# Let's tackle these features: \"Int_Mem\", \"Bty_Pwr\", \"RAM\""
      ]
    },
    {
      "cell_type": "code",
      "execution_count": null,
      "metadata": {
        "id": "YMBT6fVEN86e",
        "colab": {
          "base_uri": "https://localhost:8080/",
          "height": 564
        },
        "outputId": "b2aaf9e7-a8aa-4a80-add4-ca2cdc9704d2"
      },
      "outputs": [
        {
          "output_type": "display_data",
          "data": {
            "text/plain": [
              "<Figure size 1100x600 with 1 Axes>"
            ],
            "image/png": "[encoded data removed]"
          },
          "metadata": {}
        }
      ],
      "source": [
        "# Create a histogram of the \"Int_Mem\" feature and also show the mean and the median\n",
        "mean_Int_Mem = data['Int_Mem'].mean()\n",
        "median_Int_Mem = data['Int_Mem'].median()\n",
        "\n",
        "# Create the histogram\n",
        "plt.figure(figsize=(11, 6))\n",
        "sns.histplot(data=data, x='Int_Mem', color='blue', edgecolor='black', alpha=0.5, bins=10)\n",
        "plt.title(\"Histogram for Internal Memory (Int_Mem)\")\n",
        "plt.xlabel('Int_Mem')\n",
        "plt.ylabel('Count')\n",
        "\n",
        "# Plot mean and median\n",
        "plt.vlines(mean_Int_Mem, ymin=0, ymax=data['Int_Mem'].value_counts().max(), colors='orange', label='Mean')\n",
        "plt.vlines(median_Int_Mem, ymin=0, ymax=data['Int_Mem'].value_counts().max(), colors='red', label='Median')\n",
        "\n",
        "plt.legend()\n",
        "plt.show()"
      ]
    },
    {
      "cell_type": "code",
      "execution_count": null,
      "metadata": {
        "id": "oPjFp16vN86e",
        "colab": {
          "base_uri": "https://localhost:8080/",
          "height": 564
        },
        "outputId": "28353cc2-ca2d-400f-c404-b44bc59ea96f"
      },
      "outputs": [
        {
          "output_type": "display_data",
          "data": {
            "text/plain": [
              "<Figure size 1100x600 with 1 Axes>"
            ],
            "image/png": "[encoded data removed]"
          },
          "metadata": {}
        }
      ],
      "source": [
        "# Create a histogram of the \"Bty_Pwr\" feature and also show the mean and the median\n",
        "mean_Bty_Pwr = data['Bty_Pwr'].mean()\n",
        "median_Bty_Pwr = data['Bty_Pwr'].median()\n",
        "\n",
        "# Create the histogram\n",
        "plt.figure(figsize=(11, 6))\n",
        "sns.histplot(data=data, x='Bty_Pwr', color='green', edgecolor='black', alpha=0.5, bins=10)\n",
        "plt.title(\"Histogram for Battery Power (Bty_Pwr)\")\n",
        "plt.xlabel('Bty_Pwr')\n",
        "plt.ylabel('Count')\n",
        "\n",
        "# Plot mean and median\n",
        "plt.vlines(mean_Bty_Pwr, ymin=0, ymax=data['Bty_Pwr'].value_counts().max(), colors='orange', label='Mean')\n",
        "plt.vlines(median_Bty_Pwr, ymin=0, ymax=data['Bty_Pwr'].value_counts().max(), colors='red', label='Median')\n",
        "\n",
        "plt.legend()\n",
        "plt.show()"
      ]
    },
    {
      "cell_type": "code",
      "execution_count": null,
      "metadata": {
        "id": "TS83YmlQN86f",
        "colab": {
          "base_uri": "https://localhost:8080/",
          "height": 564
        },
        "outputId": "e59c4941-bc7d-4476-8430-76fea61ee18a"
      },
      "outputs": [
        {
          "output_type": "display_data",
          "data": {
            "text/plain": [
              "<Figure size 1100x600 with 1 Axes>"
            ],
            "image/png": "[encoded data removed]"
          },
          "metadata": {}
        }
      ],
      "source": [
        "# Create a histogram of the \"RAM\" feature and also show the mean and the median\n",
        "mean_RAM = data['RAM'].mean()\n",
        "median_RAM = data['RAM'].median()\n",
        "\n",
        "# Create the histogram\n",
        "plt.figure(figsize=(11, 6))\n",
        "sns.histplot(data=data, x='RAM', color='red', edgecolor='black', alpha=0.5, bins=10)\n",
        "plt.title(\"Histogram for RAM\")\n",
        "plt.xlabel('RAM')\n",
        "plt.ylabel('Count')\n",
        "\n",
        "# Plot mean and median\n",
        "plt.vlines(mean_RAM, ymin=0, ymax=data['RAM'].value_counts().max(), colors='orange', label='Mean')\n",
        "plt.vlines(median_RAM, ymin=0, ymax=data['RAM'].value_counts().max(), colors='red', label='Median')\n",
        "\n",
        "plt.legend()\n",
        "plt.show()"
      ]
    },
    {
      "cell_type": "code",
      "execution_count": null,
      "metadata": {
        "id": "Ty-VGMoDN86g",
        "colab": {
          "base_uri": "https://localhost:8080/"
        },
        "outputId": "a8ed7188-221e-47c9-8560-c761f7c0b4ca"
      },
      "outputs": [
        {
          "output_type": "stream",
          "name": "stdout",
          "text": [
            "0     False\n",
            "1     False\n",
            "2     False\n",
            "3     False\n",
            "4     False\n",
            "5     False\n",
            "6     False\n",
            "7     False\n",
            "8     False\n",
            "9     False\n",
            "10    False\n",
            "11    False\n",
            "12    False\n",
            "13    False\n",
            "14    False\n",
            "15    False\n",
            "16    False\n",
            "17    False\n",
            "18    False\n",
            "19    False\n",
            "20    False\n",
            "21    False\n",
            "22    False\n",
            "23    False\n",
            "24    False\n",
            "25    False\n",
            "26    False\n",
            "27    False\n",
            "28     True\n",
            "29     True\n",
            "30     True\n",
            "31    False\n",
            "32     True\n",
            "33    False\n",
            "34    False\n",
            "35    False\n",
            "36    False\n",
            "37    False\n",
            "38    False\n",
            "39    False\n",
            "40    False\n",
            "41    False\n",
            "42     True\n",
            "43    False\n",
            "44     True\n",
            "45    False\n",
            "46    False\n",
            "47     True\n",
            "48     True\n",
            "49     True\n",
            "dtype: bool\n"
          ]
        }
      ],
      "source": [
        "# The children want phones that have good internal memory, battery power and RAM\n",
        "# Consider the phones that have internal memory, battery power and RAM greater than or equal to their respective mean values\n",
        "# Create a logical condition for this situation and store the logical values as \"con5\"\n",
        "mean_Int_Mem = data['Int_Mem'].mean()\n",
        "mean_Bty_Pwr = data['Bty_Pwr'].mean()\n",
        "mean_RAM = data['RAM'].mean()\n",
        "\n",
        "# Create logical conditions\n",
        "con_Int_Mem = data['Int_Mem'] >= mean_Int_Mem\n",
        "con_Bty_Pwr = data['Bty_Pwr'] >= mean_Bty_Pwr\n",
        "con_RAM = data['RAM'] >= mean_RAM\n",
        "\n",
        "# Combine conditions for selecting phones with good internal memory, battery power, and RAM\n",
        "con5 = con_Int_Mem & con_Bty_Pwr & con_RAM\n",
        "\n",
        "# Display the logical condition\n",
        "print(con5)"
      ]
    },
    {
      "cell_type": "markdown",
      "source": [
        "Observations\n",
        "\n",
        "The features \"Int_Mem\", \"Bty_Pwr\" and \"RAM\" are respectively the internal memory, battery power and RAM of the phones.\n",
        "\n",
        "The respective means have been selected as thresholds in this case.\n",
        "\n",
        ".In case it is too strict, we can choose the respective medians as thresholds"
      ],
      "metadata": {
        "id": "u5RzvXKoSHaw"
      }
    },
    {
      "cell_type": "markdown",
      "source": [
        "# Task 7 - Obtain the logical conditions for the features \"Depth\" and \"Weight\""
      ],
      "metadata": {
        "id": "VVeYghyESO9y"
      }
    },
    {
      "cell_type": "code",
      "execution_count": null,
      "metadata": {
        "id": "07nm7-V1N86j"
      },
      "outputs": [],
      "source": [
        "# Let's tackle these features: \"Depth\", \"Weight\""
      ]
    },
    {
      "cell_type": "code",
      "execution_count": null,
      "metadata": {
        "id": "e88FFbusN86k",
        "colab": {
          "base_uri": "https://localhost:8080/",
          "height": 564
        },
        "outputId": "76f96fbe-e7ae-4ae1-9980-4b96f11a9526"
      },
      "outputs": [
        {
          "output_type": "display_data",
          "data": {
            "text/plain": [
              "<Figure size 1100x600 with 1 Axes>"
            ],
            "image/png": "[encoded data removed]"
          },
          "metadata": {}
        }
      ],
      "source": [
        "# Create a histogram of the \"Depth\" feature and also show the mean and the median\n",
        "\n",
        "\n",
        "mean_depth = data['Depth'].mean()\n",
        "median_depth = data['Depth'].median()\n",
        "\n",
        "# Create the histogram\n",
        "plt.figure(figsize=(11, 6))\n",
        "sns.histplot(data=data, x='Depth', color='blue', edgecolor='black', alpha=0.5, bins=10)\n",
        "plt.title(\"Histogram for Depth\")\n",
        "plt.xlabel('Depth')\n",
        "plt.ylabel('Count')\n",
        "\n",
        "# Plot mean and median\n",
        "plt.vlines(mean_depth, ymin=0, ymax=data['Depth'].value_counts().max(), colors='orange', label='Mean')\n",
        "plt.vlines(median_depth, ymin=0, ymax=data['Depth'].value_counts().max(), colors='red', label='Median')\n",
        "\n",
        "plt.legend()\n",
        "plt.show()"
      ]
    },
    {
      "cell_type": "code",
      "execution_count": null,
      "metadata": {
        "id": "-lXTqLttN86l",
        "colab": {
          "base_uri": "https://localhost:8080/",
          "height": 564
        },
        "outputId": "6174de7f-9177-454e-d202-2f0278183577"
      },
      "outputs": [
        {
          "output_type": "display_data",
          "data": {
            "text/plain": [
              "<Figure size 1100x600 with 1 Axes>"
            ],
            "image/png": "[encoded data removed]"
          },
          "metadata": {}
        }
      ],
      "source": [
        "# Create a histogram of the \"Weight\" feature and also show the mean and the median\n",
        "\n",
        "mean_weight = data['Weight'].mean()\n",
        "median_weight = data['Weight'].median()\n",
        "\n",
        "# Create the histogram\n",
        "plt.figure(figsize=(11, 6))\n",
        "sns.histplot(data=data, x='Weight', color='green', edgecolor='black', alpha=0.5, bins=10)\n",
        "plt.title(\"Histogram for Weight\")\n",
        "plt.xlabel('Weight')\n",
        "plt.ylabel('Count')\n",
        "\n",
        "# Plot mean and median\n",
        "plt.vlines(mean_weight, ymin=0, ymax=data['Weight'].value_counts().max(), colors='orange', label='Mean')\n",
        "plt.vlines(median_weight, ymin=0, ymax=data['Weight'].value_counts().max(), colors='red', label='Median')\n",
        "\n",
        "plt.legend()\n",
        "plt.show()\n"
      ]
    },
    {
      "cell_type": "code",
      "execution_count": null,
      "metadata": {
        "id": "7ZYJmwzJN86l",
        "colab": {
          "base_uri": "https://localhost:8080/"
        },
        "outputId": "f518ee45-97db-4a11-fadb-28698d2fb55c"
      },
      "outputs": [
        {
          "output_type": "stream",
          "name": "stdout",
          "text": [
            "0     False\n",
            "1     False\n",
            "2     False\n",
            "3     False\n",
            "4     False\n",
            "5     False\n",
            "6      True\n",
            "7      True\n",
            "8      True\n",
            "9      True\n",
            "10    False\n",
            "11    False\n",
            "12    False\n",
            "13    False\n",
            "14    False\n",
            "15    False\n",
            "16     True\n",
            "17    False\n",
            "18    False\n",
            "19    False\n",
            "20     True\n",
            "21     True\n",
            "22     True\n",
            "23     True\n",
            "24     True\n",
            "25    False\n",
            "26    False\n",
            "27    False\n",
            "28    False\n",
            "29    False\n",
            "30     True\n",
            "31     True\n",
            "32     True\n",
            "33     True\n",
            "34    False\n",
            "35    False\n",
            "36    False\n",
            "37    False\n",
            "38    False\n",
            "39    False\n",
            "40    False\n",
            "41     True\n",
            "42     True\n",
            "43    False\n",
            "44    False\n",
            "45    False\n",
            "46    False\n",
            "47     True\n",
            "48     True\n",
            "49     True\n",
            "dtype: bool\n"
          ]
        }
      ],
      "source": [
        "# The children want phones that are light weight and slim\n",
        "# Consider the phones that have depth and weight less than or equal to the respective median values in the data set\n",
        "# Create a logical condition for this situation and store the logical values as \"con6\"\n",
        "\n",
        "\n",
        "median_depth = data['Depth'].median()\n",
        "median_weight = data['Weight'].median()\n",
        "\n",
        "# Create logical conditions\n",
        "con_depth = data['Depth'] <= median_depth\n",
        "con_weight = data['Weight'] <= median_weight\n",
        "\n",
        "# Combine conditions for selecting phones that are lightweight and slim\n",
        "con6 = con_depth & con_weight\n",
        "\n",
        "# Display the logical condition\n",
        "print(con6)"
      ]
    },
    {
      "cell_type": "markdown",
      "source": [
        "Observations:\n",
        "\n",
        "The features \"Depth\" and \"Weight\" are respectively the depth of the phone and the weight of the phone.\n",
        "\n",
        "The respective medians have been selected as thresholds in this case.\n",
        "\n",
        "In case it is too strict, we can choose the respective means as thresholds."
      ],
      "metadata": {
        "id": "l32BIHsdSbHy"
      }
    },
    {
      "cell_type": "markdown",
      "source": [
        "# Task 8 - Subset the data based on all the logical conditions"
      ],
      "metadata": {
        "id": "3UYMHQseSjZp"
      }
    },
    {
      "cell_type": "code",
      "execution_count": null,
      "metadata": {
        "id": "iKFweH2xN86o",
        "colab": {
          "base_uri": "https://localhost:8080/"
        },
        "outputId": "5dc6d288-cd3e-4de6-9180-efb0acbddd4e"
      },
      "outputs": [
        {
          "output_type": "stream",
          "name": "stdout",
          "text": [
            "Empty DataFrame\n",
            "Columns: [PID, Blue, Wi_Fi, Tch_Scr, Ext_Mem, Px_h, Px_w, Scr_h, Scr_w, PC, FC, Int_Mem, Bty_Pwr, RAM, Depth, Weight, Price, con1, Px, ScreenResolution, Scr_d]\n",
            "Index: []\n",
            "\n",
            "[0 rows x 21 columns]\n"
          ]
        }
      ],
      "source": [
        "# Subset the dataframe using all the logical conditions that have been stored\n",
        "# Store the subset of the dataframe as a new dataframe called \"df1\"\n",
        "\n",
        "# Subset the dataframe using all logical conditions\n",
        "df1 = data[con1 & con2 & con3 & con4 & con5 & con6]\n",
        "\n",
        "# Display the first few rows of the subset dataframe\n",
        "print(df1.head())\n"
      ]
    },
    {
      "cell_type": "code",
      "execution_count": null,
      "metadata": {
        "id": "Y0Bp7BKkN86o",
        "colab": {
          "base_uri": "https://localhost:8080/"
        },
        "outputId": "c031fce8-76fe-4827-8c12-a19d8be56baf"
      },
      "outputs": [
        {
          "output_type": "execute_result",
          "data": {
            "text/plain": [
              "(0, 21)"
            ]
          },
          "metadata": {},
          "execution_count": 90
        }
      ],
      "source": [
        "# Get the dimensions of the dataframe\n",
        "df1.shape\n"
      ]
    },
    {
      "cell_type": "code",
      "execution_count": null,
      "metadata": {
        "id": "H5tg2OEkN86p",
        "colab": {
          "base_uri": "https://localhost:8080/"
        },
        "outputId": "cf7510e9-ec82-40c9-9823-cf7443f51390"
      },
      "outputs": [
        {
          "output_type": "stream",
          "name": "stdout",
          "text": [
            "Empty DataFrame\n",
            "Columns: [PID, Blue, Wi_Fi, Tch_Scr, Ext_Mem, Px_h, Px_w, Scr_h, Scr_w, PC, FC, Int_Mem, Bty_Pwr, RAM, Depth, Weight, Price, con1, Px, ScreenResolution, Scr_d]\n",
            "Index: []\n",
            "\n",
            "[0 rows x 21 columns]\n"
          ]
        }
      ],
      "source": [
        "# Sort the dataframe according to the \"Price\" feature in ascending order and display it\n",
        "print(df1.sort_values(by='Price'))\n"
      ]
    },
    {
      "cell_type": "markdown",
      "source": [
        "Observations:\n",
        "\n",
        "Based on all the logical conditions obtained through analysis of the features, we are left with three phones.\n",
        "\n",
        "The most expensive of these phones is the \"TYS938L\" model and the least expensive is the \"TVF078Y\" model.\n",
        "\n",
        "We could let the children choose from these three phones as per their preferences."
      ],
      "metadata": {
        "id": "Zn6iT-HQSocg"
      }
    },
    {
      "cell_type": "markdown",
      "source": [
        "# Task 9 - Study the variability of the features in the original data set"
      ],
      "metadata": {
        "id": "O09ZVXlbSvhj"
      }
    },
    {
      "cell_type": "code",
      "execution_count": null,
      "metadata": {
        "id": "grfzKBDyN86r",
        "colab": {
          "base_uri": "https://localhost:8080/"
        },
        "outputId": "a5b019e0-80d7-404c-9d08-12c88f33a4de"
      },
      "outputs": [
        {
          "output_type": "stream",
          "name": "stdout",
          "text": [
            "Px_h                0.257998\n",
            "Px_w                0.256226\n",
            "Scr_h               0.314293\n",
            "Scr_w               0.407624\n",
            "PC                  0.715716\n",
            "FC                  0.712184\n",
            "Int_Mem             1.506514\n",
            "Bty_Pwr             0.256368\n",
            "RAM                 0.479075\n",
            "Depth               0.306072\n",
            "Weight              0.388121\n",
            "Price               0.740868\n",
            "Px                  0.398680\n",
            "ScreenResolution    0.398680\n",
            "Scr_d               0.340469\n",
            "Name: Ratio of Std to Mean, dtype: float64\n"
          ]
        }
      ],
      "source": [
        "# Calculate the ratio of the standard deviation to the mean for all the numerical features in the dataframe\n",
        "# Store these values in a new series wherein the rows are the features and the only column is the calculated ratio\n",
        "# Name the series as \"deviations\"\n",
        "numeric_data = data.select_dtypes(include=['number'])\n",
        "\n",
        "# Calculate the standard deviation for all numerical features\n",
        "std_values = numeric_data.std()\n",
        "\n",
        "# Calculate the mean for all numerical features\n",
        "mean_values = numeric_data.mean()\n",
        "\n",
        "# Calculate the ratio of standard deviation to the mean\n",
        "ratios = std_values / mean_values\n",
        "\n",
        "# Create a new series with the calculated ratios\n",
        "deviations = pd.Series(ratios, name='Ratio of Std to Mean')\n",
        "\n",
        "# Display the series\n",
        "print(deviations)"
      ]
    },
    {
      "cell_type": "code",
      "execution_count": null,
      "metadata": {
        "id": "sBRqrnVaN86s",
        "colab": {
          "base_uri": "https://localhost:8080/"
        },
        "outputId": "e9fb7e20-517b-45ed-af72-ddd06d8ecef9"
      },
      "outputs": [
        {
          "output_type": "stream",
          "name": "stdout",
          "text": [
            "Int_Mem             1.506514\n",
            "Price               0.740868\n",
            "PC                  0.715716\n",
            "FC                  0.712184\n",
            "RAM                 0.479075\n",
            "Scr_w               0.407624\n",
            "Px                  0.398680\n",
            "ScreenResolution    0.398680\n",
            "Weight              0.388121\n",
            "Scr_d               0.340469\n",
            "Scr_h               0.314293\n",
            "Depth               0.306072\n",
            "Px_h                0.257998\n",
            "Bty_Pwr             0.256368\n",
            "Px_w                0.256226\n",
            "Name: Ratio of Std to Mean, dtype: float64\n"
          ]
        }
      ],
      "source": [
        "# View the \"deviations\" series after sorting it in descending order\n",
        "\n",
        "print( deviations.sort_values(ascending=False))"
      ]
    },
    {
      "cell_type": "markdown",
      "source": [
        "Observations:\n",
        "\n",
        "The ratio of the standard deviation to the mean of a feature normalises it in a way.\n",
        "\n",
        "This allows for comparison between multiple features.\n",
        "\n",
        "The most variable feature in the original data set is the internal memory of the phones.\n",
        "\n",
        "The least variable feature in the original data set is the number of screen pixels in the horizontal axis.\n",
        "\n",
        "Although most features don't seem so variable, the prices of the phones are quite variable.\n",
        "\n",
        "Feel free to investigate what could be the cause of this difference in variability.\n",
        "\n",
        "Note: We encourage you to extend this analysis further and see what else you can find.\n",
        "\n",
        "Note: Please refer to the official website of Python and its libraries for various Python documentations."
      ],
      "metadata": {
        "id": "RSypqWHuSzJU"
      }
    },
    {
      "cell_type": "markdown",
      "source": [
        "# Conclusion\n",
        "1. We have used concepts of descriptive statistics to study and work with a data set that contains mobile phone specifications.\n",
        "\n",
        "2. We were able to recommend three phone models to the client which she can then propose to her children."
      ],
      "metadata": {
        "id": "kE4_U-R9TI_d"
      }
    },
    {
      "cell_type": "code",
      "source": [],
      "metadata": {
        "id": "8TQnykmJhK6w"
      },
      "execution_count": null,
      "outputs": []
    }
  ],
  "metadata": {
    "colab": {
      "provenance": [],
      "include_colab_link": true
    },
    "kernelspec": {
      "display_name": "Python 3",
      "language": "python",
      "name": "python3"
    },
    "language_info": {
      "codemirror_mode": {
        "name": "ipython",
        "version": 3
      },
      "file_extension": ".py",
      "mimetype": "text/x-python",
      "name": "python",
      "nbconvert_exporter": "python",
      "pygments_lexer": "ipython3",
      "version": "3.8.8"
    }
  },
  "nbformat": 4,
  "nbformat_minor": 0
}